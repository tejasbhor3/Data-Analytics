{
 "cells": [
  {
   "cell_type": "code",
   "execution_count": 53,
   "metadata": {},
   "outputs": [],
   "source": [
    "import pandas as pd\n",
    "import matplotlib.pyplot as plt\n",
    "from scipy.stats import ttest_ind\n",
    "from scipy.stats import mannwhitneyu\n",
    "from scipy.stats import chi2_contingency\n",
    "from scipy.stats import pearsonr\n",
    "import warnings\n",
    "warnings.filterwarnings('ignore')"
   ]
  },
  {
   "cell_type": "code",
   "execution_count": 2,
   "metadata": {},
   "outputs": [],
   "source": [
    "df=pd.read_excel(\"Bank.xlsx\",sheet_name=1)"
   ]
  },
  {
   "cell_type": "code",
   "execution_count": 3,
   "metadata": {},
   "outputs": [
    {
     "data": {
      "text/plain": [
       "Index(['ID', 'Age', 'Experience', 'Income', 'ZIP Code', 'Family', 'CCAvg',\n",
       "       'Education', 'Mortgage', 'Personal Loan', 'Securities Account',\n",
       "       'CD Account', 'Online', 'CreditCard'],\n",
       "      dtype='object')"
      ]
     },
     "execution_count": 3,
     "metadata": {},
     "output_type": "execute_result"
    }
   ],
   "source": [
    "df.columns"
   ]
  },
  {
   "cell_type": "code",
   "execution_count": 4,
   "metadata": {},
   "outputs": [],
   "source": [
    "df1=df.drop(['ID','ZIP Code'],axis=1)"
   ]
  },
  {
   "cell_type": "code",
   "execution_count": 5,
   "metadata": {},
   "outputs": [
    {
     "data": {
      "text/plain": [
       "Index(['Age', 'Experience', 'Income', 'Family', 'CCAvg', 'Education',\n",
       "       'Mortgage', 'Personal Loan', 'Securities Account', 'CD Account',\n",
       "       'Online', 'CreditCard'],\n",
       "      dtype='object')"
      ]
     },
     "execution_count": 5,
     "metadata": {},
     "output_type": "execute_result"
    }
   ],
   "source": [
    "df1.columns"
   ]
  },
  {
   "cell_type": "code",
   "execution_count": 6,
   "metadata": {},
   "outputs": [],
   "source": [
    "df2=df1.dropna()"
   ]
  },
  {
   "cell_type": "code",
   "execution_count": 7,
   "metadata": {},
   "outputs": [],
   "source": [
    "df3=df2.drop_duplicates()"
   ]
  },
  {
   "cell_type": "code",
   "execution_count": 8,
   "metadata": {},
   "outputs": [
    {
     "data": {
      "text/plain": [
       "Age                   45.347704\n",
       "Experience            20.114498\n",
       "Income                73.824544\n",
       "Family                 2.396631\n",
       "CCAvg                  1.940606\n",
       "Education              1.879286\n",
       "Mortgage              56.646080\n",
       "Personal Loan          0.096250\n",
       "Securities Account     0.104672\n",
       "CD Account             0.060557\n",
       "Online                 0.596150\n",
       "CreditCard             0.294566\n",
       "dtype: float64"
      ]
     },
     "execution_count": 8,
     "metadata": {},
     "output_type": "execute_result"
    }
   ],
   "source": [
    "df3[['Age', 'Experience', 'Income', 'Family', 'CCAvg', 'Education',\n",
    "       'Mortgage', 'Personal Loan', 'Securities Account', 'CD Account',\n",
    "       'Online', 'CreditCard']].mean()"
   ]
  },
  {
   "cell_type": "code",
   "execution_count": 9,
   "metadata": {},
   "outputs": [],
   "source": [
    "Bankloan_yes=df3[df3[\"Personal Loan\"]==1]"
   ]
  },
  {
   "cell_type": "code",
   "execution_count": 10,
   "metadata": {},
   "outputs": [],
   "source": [
    "Bankloan_No=df3[df3[\"Personal Loan\"]==0]"
   ]
  },
  {
   "cell_type": "code",
   "execution_count": 11,
   "metadata": {},
   "outputs": [],
   "source": [
    "Bank_Yes=Bankloan_yes.describe()"
   ]
  },
  {
   "cell_type": "code",
   "execution_count": 12,
   "metadata": {},
   "outputs": [
    {
     "data": {
      "text/html": [
       "<div>\n",
       "<style scoped>\n",
       "    .dataframe tbody tr th:only-of-type {\n",
       "        vertical-align: middle;\n",
       "    }\n",
       "\n",
       "    .dataframe tbody tr th {\n",
       "        vertical-align: top;\n",
       "    }\n",
       "\n",
       "    .dataframe thead th {\n",
       "        text-align: right;\n",
       "    }\n",
       "</style>\n",
       "<table border=\"1\" class=\"dataframe\">\n",
       "  <thead>\n",
       "    <tr style=\"text-align: right;\">\n",
       "      <th></th>\n",
       "      <th>Age</th>\n",
       "      <th>Experience</th>\n",
       "      <th>Income</th>\n",
       "      <th>Family</th>\n",
       "      <th>CCAvg</th>\n",
       "      <th>Education</th>\n",
       "      <th>Mortgage</th>\n",
       "      <th>Personal Loan</th>\n",
       "      <th>Securities Account</th>\n",
       "      <th>CD Account</th>\n",
       "      <th>Online</th>\n",
       "      <th>CreditCard</th>\n",
       "    </tr>\n",
       "  </thead>\n",
       "  <tbody>\n",
       "    <tr>\n",
       "      <th>count</th>\n",
       "      <td>480.000000</td>\n",
       "      <td>480.000000</td>\n",
       "      <td>480.000000</td>\n",
       "      <td>480.000000</td>\n",
       "      <td>480.000000</td>\n",
       "      <td>480.000000</td>\n",
       "      <td>480.000000</td>\n",
       "      <td>480.0</td>\n",
       "      <td>480.000000</td>\n",
       "      <td>480.000000</td>\n",
       "      <td>480.00000</td>\n",
       "      <td>480.000000</td>\n",
       "    </tr>\n",
       "    <tr>\n",
       "      <th>mean</th>\n",
       "      <td>45.066667</td>\n",
       "      <td>19.843750</td>\n",
       "      <td>144.745833</td>\n",
       "      <td>2.612500</td>\n",
       "      <td>3.905347</td>\n",
       "      <td>2.233333</td>\n",
       "      <td>100.845833</td>\n",
       "      <td>1.0</td>\n",
       "      <td>0.125000</td>\n",
       "      <td>0.291667</td>\n",
       "      <td>0.60625</td>\n",
       "      <td>0.297917</td>\n",
       "    </tr>\n",
       "    <tr>\n",
       "      <th>std</th>\n",
       "      <td>11.590964</td>\n",
       "      <td>11.582443</td>\n",
       "      <td>31.584429</td>\n",
       "      <td>1.115393</td>\n",
       "      <td>2.097679</td>\n",
       "      <td>0.753373</td>\n",
       "      <td>160.847862</td>\n",
       "      <td>0.0</td>\n",
       "      <td>0.331064</td>\n",
       "      <td>0.455004</td>\n",
       "      <td>0.48909</td>\n",
       "      <td>0.457820</td>\n",
       "    </tr>\n",
       "    <tr>\n",
       "      <th>min</th>\n",
       "      <td>26.000000</td>\n",
       "      <td>0.000000</td>\n",
       "      <td>60.000000</td>\n",
       "      <td>1.000000</td>\n",
       "      <td>0.000000</td>\n",
       "      <td>1.000000</td>\n",
       "      <td>0.000000</td>\n",
       "      <td>1.0</td>\n",
       "      <td>0.000000</td>\n",
       "      <td>0.000000</td>\n",
       "      <td>0.00000</td>\n",
       "      <td>0.000000</td>\n",
       "    </tr>\n",
       "    <tr>\n",
       "      <th>25%</th>\n",
       "      <td>35.000000</td>\n",
       "      <td>9.000000</td>\n",
       "      <td>122.000000</td>\n",
       "      <td>2.000000</td>\n",
       "      <td>2.600000</td>\n",
       "      <td>2.000000</td>\n",
       "      <td>0.000000</td>\n",
       "      <td>1.0</td>\n",
       "      <td>0.000000</td>\n",
       "      <td>0.000000</td>\n",
       "      <td>0.00000</td>\n",
       "      <td>0.000000</td>\n",
       "    </tr>\n",
       "    <tr>\n",
       "      <th>50%</th>\n",
       "      <td>45.000000</td>\n",
       "      <td>20.000000</td>\n",
       "      <td>142.500000</td>\n",
       "      <td>3.000000</td>\n",
       "      <td>3.800000</td>\n",
       "      <td>2.000000</td>\n",
       "      <td>0.000000</td>\n",
       "      <td>1.0</td>\n",
       "      <td>0.000000</td>\n",
       "      <td>0.000000</td>\n",
       "      <td>1.00000</td>\n",
       "      <td>0.000000</td>\n",
       "    </tr>\n",
       "    <tr>\n",
       "      <th>75%</th>\n",
       "      <td>55.000000</td>\n",
       "      <td>30.000000</td>\n",
       "      <td>172.000000</td>\n",
       "      <td>4.000000</td>\n",
       "      <td>5.350000</td>\n",
       "      <td>3.000000</td>\n",
       "      <td>192.500000</td>\n",
       "      <td>1.0</td>\n",
       "      <td>0.000000</td>\n",
       "      <td>1.000000</td>\n",
       "      <td>1.00000</td>\n",
       "      <td>1.000000</td>\n",
       "    </tr>\n",
       "    <tr>\n",
       "      <th>max</th>\n",
       "      <td>65.000000</td>\n",
       "      <td>41.000000</td>\n",
       "      <td>203.000000</td>\n",
       "      <td>4.000000</td>\n",
       "      <td>10.000000</td>\n",
       "      <td>3.000000</td>\n",
       "      <td>617.000000</td>\n",
       "      <td>1.0</td>\n",
       "      <td>1.000000</td>\n",
       "      <td>1.000000</td>\n",
       "      <td>1.00000</td>\n",
       "      <td>1.000000</td>\n",
       "    </tr>\n",
       "  </tbody>\n",
       "</table>\n",
       "</div>"
      ],
      "text/plain": [
       "              Age  Experience      Income      Family       CCAvg   Education  \\\n",
       "count  480.000000  480.000000  480.000000  480.000000  480.000000  480.000000   \n",
       "mean    45.066667   19.843750  144.745833    2.612500    3.905347    2.233333   \n",
       "std     11.590964   11.582443   31.584429    1.115393    2.097679    0.753373   \n",
       "min     26.000000    0.000000   60.000000    1.000000    0.000000    1.000000   \n",
       "25%     35.000000    9.000000  122.000000    2.000000    2.600000    2.000000   \n",
       "50%     45.000000   20.000000  142.500000    3.000000    3.800000    2.000000   \n",
       "75%     55.000000   30.000000  172.000000    4.000000    5.350000    3.000000   \n",
       "max     65.000000   41.000000  203.000000    4.000000   10.000000    3.000000   \n",
       "\n",
       "         Mortgage  Personal Loan  Securities Account  CD Account     Online  \\\n",
       "count  480.000000          480.0          480.000000  480.000000  480.00000   \n",
       "mean   100.845833            1.0            0.125000    0.291667    0.60625   \n",
       "std    160.847862            0.0            0.331064    0.455004    0.48909   \n",
       "min      0.000000            1.0            0.000000    0.000000    0.00000   \n",
       "25%      0.000000            1.0            0.000000    0.000000    0.00000   \n",
       "50%      0.000000            1.0            0.000000    0.000000    1.00000   \n",
       "75%    192.500000            1.0            0.000000    1.000000    1.00000   \n",
       "max    617.000000            1.0            1.000000    1.000000    1.00000   \n",
       "\n",
       "       CreditCard  \n",
       "count  480.000000  \n",
       "mean     0.297917  \n",
       "std      0.457820  \n",
       "min      0.000000  \n",
       "25%      0.000000  \n",
       "50%      0.000000  \n",
       "75%      1.000000  \n",
       "max      1.000000  "
      ]
     },
     "execution_count": 12,
     "metadata": {},
     "output_type": "execute_result"
    }
   ],
   "source": [
    "Bank_Yes"
   ]
  },
  {
   "cell_type": "code",
   "execution_count": 13,
   "metadata": {},
   "outputs": [],
   "source": [
    "Bank_No=Bankloan_No.describe()"
   ]
  },
  {
   "cell_type": "code",
   "execution_count": 14,
   "metadata": {},
   "outputs": [
    {
     "data": {
      "text/html": [
       "<div>\n",
       "<style scoped>\n",
       "    .dataframe tbody tr th:only-of-type {\n",
       "        vertical-align: middle;\n",
       "    }\n",
       "\n",
       "    .dataframe tbody tr th {\n",
       "        vertical-align: top;\n",
       "    }\n",
       "\n",
       "    .dataframe thead th {\n",
       "        text-align: right;\n",
       "    }\n",
       "</style>\n",
       "<table border=\"1\" class=\"dataframe\">\n",
       "  <thead>\n",
       "    <tr style=\"text-align: right;\">\n",
       "      <th></th>\n",
       "      <th>Age</th>\n",
       "      <th>Experience</th>\n",
       "      <th>Income</th>\n",
       "      <th>Family</th>\n",
       "      <th>CCAvg</th>\n",
       "      <th>Education</th>\n",
       "      <th>Mortgage</th>\n",
       "      <th>Personal Loan</th>\n",
       "      <th>Securities Account</th>\n",
       "      <th>CD Account</th>\n",
       "      <th>Online</th>\n",
       "      <th>CreditCard</th>\n",
       "    </tr>\n",
       "  </thead>\n",
       "  <tbody>\n",
       "    <tr>\n",
       "      <th>count</th>\n",
       "      <td>4507.000000</td>\n",
       "      <td>4507.000000</td>\n",
       "      <td>4507.000000</td>\n",
       "      <td>4507.000000</td>\n",
       "      <td>4507.000000</td>\n",
       "      <td>4507.000000</td>\n",
       "      <td>4507.000000</td>\n",
       "      <td>4507.0</td>\n",
       "      <td>4507.000000</td>\n",
       "      <td>4507.000000</td>\n",
       "      <td>4507.000000</td>\n",
       "      <td>4507.000000</td>\n",
       "    </tr>\n",
       "    <tr>\n",
       "      <th>mean</th>\n",
       "      <td>45.377635</td>\n",
       "      <td>20.143333</td>\n",
       "      <td>66.271356</td>\n",
       "      <td>2.373641</td>\n",
       "      <td>1.731359</td>\n",
       "      <td>1.841580</td>\n",
       "      <td>51.938762</td>\n",
       "      <td>0.0</td>\n",
       "      <td>0.102507</td>\n",
       "      <td>0.035944</td>\n",
       "      <td>0.595074</td>\n",
       "      <td>0.294209</td>\n",
       "    </tr>\n",
       "    <tr>\n",
       "      <th>std</th>\n",
       "      <td>11.447784</td>\n",
       "      <td>11.453232</td>\n",
       "      <td>40.606490</td>\n",
       "      <td>1.148610</td>\n",
       "      <td>1.568899</td>\n",
       "      <td>0.839664</td>\n",
       "      <td>92.129496</td>\n",
       "      <td>0.0</td>\n",
       "      <td>0.303348</td>\n",
       "      <td>0.186171</td>\n",
       "      <td>0.490932</td>\n",
       "      <td>0.455737</td>\n",
       "    </tr>\n",
       "    <tr>\n",
       "      <th>min</th>\n",
       "      <td>23.000000</td>\n",
       "      <td>-3.000000</td>\n",
       "      <td>8.000000</td>\n",
       "      <td>1.000000</td>\n",
       "      <td>0.000000</td>\n",
       "      <td>1.000000</td>\n",
       "      <td>0.000000</td>\n",
       "      <td>0.0</td>\n",
       "      <td>0.000000</td>\n",
       "      <td>0.000000</td>\n",
       "      <td>0.000000</td>\n",
       "      <td>0.000000</td>\n",
       "    </tr>\n",
       "    <tr>\n",
       "      <th>25%</th>\n",
       "      <td>35.000000</td>\n",
       "      <td>10.000000</td>\n",
       "      <td>35.000000</td>\n",
       "      <td>1.000000</td>\n",
       "      <td>0.600000</td>\n",
       "      <td>1.000000</td>\n",
       "      <td>0.000000</td>\n",
       "      <td>0.0</td>\n",
       "      <td>0.000000</td>\n",
       "      <td>0.000000</td>\n",
       "      <td>0.000000</td>\n",
       "      <td>0.000000</td>\n",
       "    </tr>\n",
       "    <tr>\n",
       "      <th>50%</th>\n",
       "      <td>45.000000</td>\n",
       "      <td>20.000000</td>\n",
       "      <td>59.000000</td>\n",
       "      <td>2.000000</td>\n",
       "      <td>1.500000</td>\n",
       "      <td>2.000000</td>\n",
       "      <td>0.000000</td>\n",
       "      <td>0.0</td>\n",
       "      <td>0.000000</td>\n",
       "      <td>0.000000</td>\n",
       "      <td>1.000000</td>\n",
       "      <td>0.000000</td>\n",
       "    </tr>\n",
       "    <tr>\n",
       "      <th>75%</th>\n",
       "      <td>55.000000</td>\n",
       "      <td>30.000000</td>\n",
       "      <td>84.500000</td>\n",
       "      <td>3.000000</td>\n",
       "      <td>2.300000</td>\n",
       "      <td>3.000000</td>\n",
       "      <td>98.000000</td>\n",
       "      <td>0.0</td>\n",
       "      <td>0.000000</td>\n",
       "      <td>0.000000</td>\n",
       "      <td>1.000000</td>\n",
       "      <td>1.000000</td>\n",
       "    </tr>\n",
       "    <tr>\n",
       "      <th>max</th>\n",
       "      <td>67.000000</td>\n",
       "      <td>43.000000</td>\n",
       "      <td>224.000000</td>\n",
       "      <td>4.000000</td>\n",
       "      <td>8.800000</td>\n",
       "      <td>3.000000</td>\n",
       "      <td>635.000000</td>\n",
       "      <td>0.0</td>\n",
       "      <td>1.000000</td>\n",
       "      <td>1.000000</td>\n",
       "      <td>1.000000</td>\n",
       "      <td>1.000000</td>\n",
       "    </tr>\n",
       "  </tbody>\n",
       "</table>\n",
       "</div>"
      ],
      "text/plain": [
       "               Age   Experience       Income       Family        CCAvg  \\\n",
       "count  4507.000000  4507.000000  4507.000000  4507.000000  4507.000000   \n",
       "mean     45.377635    20.143333    66.271356     2.373641     1.731359   \n",
       "std      11.447784    11.453232    40.606490     1.148610     1.568899   \n",
       "min      23.000000    -3.000000     8.000000     1.000000     0.000000   \n",
       "25%      35.000000    10.000000    35.000000     1.000000     0.600000   \n",
       "50%      45.000000    20.000000    59.000000     2.000000     1.500000   \n",
       "75%      55.000000    30.000000    84.500000     3.000000     2.300000   \n",
       "max      67.000000    43.000000   224.000000     4.000000     8.800000   \n",
       "\n",
       "         Education     Mortgage  Personal Loan  Securities Account  \\\n",
       "count  4507.000000  4507.000000         4507.0         4507.000000   \n",
       "mean      1.841580    51.938762            0.0            0.102507   \n",
       "std       0.839664    92.129496            0.0            0.303348   \n",
       "min       1.000000     0.000000            0.0            0.000000   \n",
       "25%       1.000000     0.000000            0.0            0.000000   \n",
       "50%       2.000000     0.000000            0.0            0.000000   \n",
       "75%       3.000000    98.000000            0.0            0.000000   \n",
       "max       3.000000   635.000000            0.0            1.000000   \n",
       "\n",
       "        CD Account       Online   CreditCard  \n",
       "count  4507.000000  4507.000000  4507.000000  \n",
       "mean      0.035944     0.595074     0.294209  \n",
       "std       0.186171     0.490932     0.455737  \n",
       "min       0.000000     0.000000     0.000000  \n",
       "25%       0.000000     0.000000     0.000000  \n",
       "50%       0.000000     1.000000     0.000000  \n",
       "75%       0.000000     1.000000     1.000000  \n",
       "max       1.000000     1.000000     1.000000  "
      ]
     },
     "execution_count": 14,
     "metadata": {},
     "output_type": "execute_result"
    }
   ],
   "source": [
    "Bank_No"
   ]
  },
  {
   "cell_type": "code",
   "execution_count": 15,
   "metadata": {},
   "outputs": [
    {
     "data": {
      "text/plain": [
       "(array([ 799., 1150.,  863.,  877.,  376.,  307.,  268.,  197.,  141.,\n",
       "           9.]),\n",
       " array([  8. ,  29.6,  51.2,  72.8,  94.4, 116. , 137.6, 159.2, 180.8,\n",
       "        202.4, 224. ]),\n",
       " <BarContainer object of 10 artists>)"
      ]
     },
     "execution_count": 15,
     "metadata": {},
     "output_type": "execute_result"
    },
    {
     "data": {
      "image/png": "[encoded data removed]",
      "text/plain": [
       "<Figure size 432x288 with 1 Axes>"
      ]
     },
     "metadata": {
      "needs_background": "light"
     },
     "output_type": "display_data"
    }
   ],
   "source": [
    "plt.hist(df3.Income)"
   ]
  },
  {
   "cell_type": "code",
   "execution_count": 16,
   "metadata": {},
   "outputs": [
    {
     "data": {
      "text/plain": [
       "(array([1674., 1374., 1037.,  319.,  219.,   97.,  132.,   84.,   45.,\n",
       "           6.]),\n",
       " array([ 0.,  1.,  2.,  3.,  4.,  5.,  6.,  7.,  8.,  9., 10.]),\n",
       " <BarContainer object of 10 artists>)"
      ]
     },
     "execution_count": 16,
     "metadata": {},
     "output_type": "execute_result"
    },
    {
     "data": {
      "image/png": "[encoded data removed]",
      "text/plain": [
       "<Figure size 432x288 with 1 Axes>"
      ]
     },
     "metadata": {
      "needs_background": "light"
     },
     "output_type": "display_data"
    }
   ],
   "source": [
    "plt.hist(df3.CCAvg)"
   ]
  },
  {
   "cell_type": "code",
   "execution_count": 17,
   "metadata": {},
   "outputs": [
    {
     "data": {
      "text/plain": [
       "(array([262., 483., 631., 476., 531., 600., 522., 678., 503., 301.]),\n",
       " array([23. , 27.4, 31.8, 36.2, 40.6, 45. , 49.4, 53.8, 58.2, 62.6, 67. ]),\n",
       " <BarContainer object of 10 artists>)"
      ]
     },
     "execution_count": 17,
     "metadata": {},
     "output_type": "execute_result"
    },
    {
     "data": {
      "image/png": "[encoded data removed]",
      "text/plain": [
       "<Figure size 432x288 with 1 Axes>"
      ]
     },
     "metadata": {
      "needs_background": "light"
     },
     "output_type": "display_data"
    }
   ],
   "source": [
    "plt.hist(df3.Age)"
   ]
  },
  {
   "cell_type": "code",
   "execution_count": 18,
   "metadata": {},
   "outputs": [
    {
     "data": {
      "text/plain": [
       "{'whiskers': [<matplotlib.lines.Line2D at 0x169d43d7d30>,\n",
       "  <matplotlib.lines.Line2D at 0x169d43e7070>],\n",
       " 'caps': [<matplotlib.lines.Line2D at 0x169d43e73d0>,\n",
       "  <matplotlib.lines.Line2D at 0x169d43e7730>],\n",
       " 'boxes': [<matplotlib.lines.Line2D at 0x169d43d79d0>],\n",
       " 'medians': [<matplotlib.lines.Line2D at 0x169d43e7a90>],\n",
       " 'fliers': [<matplotlib.lines.Line2D at 0x169d43e7df0>],\n",
       " 'means': []}"
      ]
     },
     "execution_count": 18,
     "metadata": {},
     "output_type": "execute_result"
    },
    {
     "data": {
      "image/png": "[encoded data removed]",
      "text/plain": [
       "<Figure size 432x288 with 1 Axes>"
      ]
     },
     "metadata": {
      "needs_background": "light"
     },
     "output_type": "display_data"
    }
   ],
   "source": [
    "plt.boxplot(df3.Age)"
   ]
  },
  {
   "cell_type": "code",
   "execution_count": 19,
   "metadata": {},
   "outputs": [
    {
     "data": {
      "text/plain": [
       "{'whiskers': [<matplotlib.lines.Line2D at 0x169d4244880>,\n",
       "  <matplotlib.lines.Line2D at 0x169d4244be0>],\n",
       " 'caps': [<matplotlib.lines.Line2D at 0x169d4244f40>,\n",
       "  <matplotlib.lines.Line2D at 0x169d42472e0>],\n",
       " 'boxes': [<matplotlib.lines.Line2D at 0x169d4244520>],\n",
       " 'medians': [<matplotlib.lines.Line2D at 0x169d4247670>],\n",
       " 'fliers': [<matplotlib.lines.Line2D at 0x169d42479d0>],\n",
       " 'means': []}"
      ]
     },
     "execution_count": 19,
     "metadata": {},
     "output_type": "execute_result"
    },
    {
     "data": {
      "image/png": "[encoded data removed]",
      "text/plain": [
       "<Figure size 432x288 with 1 Axes>"
      ]
     },
     "metadata": {
      "needs_background": "light"
     },
     "output_type": "display_data"
    }
   ],
   "source": [
    "plt.boxplot(df3.Income)"
   ]
  },
  {
   "cell_type": "code",
   "execution_count": 20,
   "metadata": {},
   "outputs": [
    {
     "data": {
      "text/plain": [
       "{'whiskers': [<matplotlib.lines.Line2D at 0x169d6e02520>,\n",
       "  <matplotlib.lines.Line2D at 0x169d6e02880>],\n",
       " 'caps': [<matplotlib.lines.Line2D at 0x169d6e02be0>,\n",
       "  <matplotlib.lines.Line2D at 0x169d6e02f40>],\n",
       " 'boxes': [<matplotlib.lines.Line2D at 0x169d6e021c0>],\n",
       " 'medians': [<matplotlib.lines.Line2D at 0x169d6d282e0>],\n",
       " 'fliers': [<matplotlib.lines.Line2D at 0x169d6d28640>],\n",
       " 'means': []}"
      ]
     },
     "execution_count": 20,
     "metadata": {},
     "output_type": "execute_result"
    },
    {
     "data": {
      "image/png": "[encoded data removed]",
      "text/plain": [
       "<Figure size 432x288 with 1 Axes>"
      ]
     },
     "metadata": {
      "needs_background": "light"
     },
     "output_type": "display_data"
    }
   ],
   "source": [
    "plt.boxplot(df3.Experience)"
   ]
  },
  {
   "cell_type": "code",
   "execution_count": 23,
   "metadata": {},
   "outputs": [
    {
     "data": {
      "text/plain": [
       "0.839703974295327"
      ]
     },
     "execution_count": 23,
     "metadata": {},
     "output_type": "execute_result"
    }
   ],
   "source": [
    "df3[\"Income\"].skew()"
   ]
  },
  {
   "cell_type": "code",
   "execution_count": 25,
   "metadata": {},
   "outputs": [],
   "source": [
    "stats,p=ttest_ind(Bankloan_yes,Bankloan_No.Age)"
   ]
  },
  {
   "cell_type": "code",
   "execution_count": 26,
   "metadata": {},
   "outputs": [
    {
     "name": "stdout",
     "output_type": "stream",
     "text": [
      "[ -0.56508604 -46.40309718 141.37292902 -81.79581427 -79.22177589\n",
      " -82.54366591  22.63758446 -84.92282079 -86.59340667 -86.27107235\n",
      " -85.66800569 -86.25902319] [5.72040669e-001 0.00000000e+000 0.00000000e+000 0.00000000e+000\n",
      " 0.00000000e+000 0.00000000e+000 4.40439814e-108 0.00000000e+000\n",
      " 0.00000000e+000 0.00000000e+000 0.00000000e+000 0.00000000e+000]\n"
     ]
    }
   ],
   "source": [
    "print(stats,p)"
   ]
  },
  {
   "cell_type": "code",
   "execution_count": 29,
   "metadata": {},
   "outputs": [],
   "source": [
    "stats,p=ttest_ind(Bankloan_No.Experience,Bankloan_yes.Experience)"
   ]
  },
  {
   "cell_type": "code",
   "execution_count": 30,
   "metadata": {},
   "outputs": [
    {
     "name": "stdout",
     "output_type": "stream",
     "text": [
      "0.5442022148074946 0.5863266672510148\n"
     ]
    }
   ],
   "source": [
    "print(stats,p)"
   ]
  },
  {
   "cell_type": "code",
   "execution_count": 31,
   "metadata": {},
   "outputs": [],
   "source": [
    "stats,p=ttest_ind(Bankloan_No.Income,Bankloan_yes.Income)"
   ]
  },
  {
   "cell_type": "code",
   "execution_count": 32,
   "metadata": {},
   "outputs": [
    {
     "name": "stdout",
     "output_type": "stream",
     "text": [
      "-41.037412879663336 0.0\n"
     ]
    }
   ],
   "source": [
    "print(stats,p)"
   ]
  },
  {
   "cell_type": "code",
   "execution_count": 36,
   "metadata": {},
   "outputs": [],
   "source": [
    "stats,p=mannwhitneyu(Bankloan_yes.Mortgage,Bankloan_No.Mortgage)"
   ]
  },
  {
   "cell_type": "code",
   "execution_count": 37,
   "metadata": {},
   "outputs": [
    {
     "name": "stdout",
     "output_type": "stream",
     "text": [
      "972786.5 4.51906558129392e-06\n"
     ]
    }
   ],
   "source": [
    "print(stats,p)"
   ]
  },
  {
   "cell_type": "code",
   "execution_count": 38,
   "metadata": {},
   "outputs": [],
   "source": [
    "stats,p=mannwhitneyu(Bankloan_yes.CCAvg,Bankloan_No.CCAvg)"
   ]
  },
  {
   "cell_type": "code",
   "execution_count": 39,
   "metadata": {},
   "outputs": [
    {
     "name": "stdout",
     "output_type": "stream",
     "text": [
      "417018.0 3.0727196394025045e-109\n"
     ]
    }
   ],
   "source": [
    "print(stats,p)"
   ]
  },
  {
   "cell_type": "code",
   "execution_count": 42,
   "metadata": {},
   "outputs": [],
   "source": [
    "chitable=pd.crosstab(df3[\"Personal Loan\"],df3[\"Education\"])"
   ]
  },
  {
   "cell_type": "code",
   "execution_count": 43,
   "metadata": {},
   "outputs": [
    {
     "data": {
      "text/html": [
       "<div>\n",
       "<style scoped>\n",
       "    .dataframe tbody tr th:only-of-type {\n",
       "        vertical-align: middle;\n",
       "    }\n",
       "\n",
       "    .dataframe tbody tr th {\n",
       "        vertical-align: top;\n",
       "    }\n",
       "\n",
       "    .dataframe thead th {\n",
       "        text-align: right;\n",
       "    }\n",
       "</style>\n",
       "<table border=\"1\" class=\"dataframe\">\n",
       "  <thead>\n",
       "    <tr style=\"text-align: right;\">\n",
       "      <th>Education</th>\n",
       "      <th>1</th>\n",
       "      <th>2</th>\n",
       "      <th>3</th>\n",
       "    </tr>\n",
       "    <tr>\n",
       "      <th>Personal Loan</th>\n",
       "      <th></th>\n",
       "      <th></th>\n",
       "      <th></th>\n",
       "    </tr>\n",
       "  </thead>\n",
       "  <tbody>\n",
       "    <tr>\n",
       "      <th>0</th>\n",
       "      <td>2002</td>\n",
       "      <td>1217</td>\n",
       "      <td>1288</td>\n",
       "    </tr>\n",
       "    <tr>\n",
       "      <th>1</th>\n",
       "      <td>93</td>\n",
       "      <td>182</td>\n",
       "      <td>205</td>\n",
       "    </tr>\n",
       "  </tbody>\n",
       "</table>\n",
       "</div>"
      ],
      "text/plain": [
       "Education         1     2     3\n",
       "Personal Loan                  \n",
       "0              2002  1217  1288\n",
       "1                93   182   205"
      ]
     },
     "execution_count": 43,
     "metadata": {},
     "output_type": "execute_result"
    }
   ],
   "source": [
    "chitable"
   ]
  },
  {
   "cell_type": "code",
   "execution_count": 44,
   "metadata": {},
   "outputs": [],
   "source": [
    "stats,p,dof,expected=chi2_contingency(chitable)"
   ]
  },
  {
   "cell_type": "code",
   "execution_count": 45,
   "metadata": {},
   "outputs": [
    {
     "name": "stdout",
     "output_type": "stream",
     "text": [
      "112.12380323466421 4.493921507384509e-25\n"
     ]
    }
   ],
   "source": [
    "print(stats,p)"
   ]
  },
  {
   "cell_type": "code",
   "execution_count": 46,
   "metadata": {},
   "outputs": [],
   "source": [
    "chitable=pd.crosstab(df3[\"Securities Account\"],df3[\"Securities Account\"])"
   ]
  },
  {
   "cell_type": "code",
   "execution_count": 47,
   "metadata": {},
   "outputs": [
    {
     "data": {
      "text/html": [
       "<div>\n",
       "<style scoped>\n",
       "    .dataframe tbody tr th:only-of-type {\n",
       "        vertical-align: middle;\n",
       "    }\n",
       "\n",
       "    .dataframe tbody tr th {\n",
       "        vertical-align: top;\n",
       "    }\n",
       "\n",
       "    .dataframe thead th {\n",
       "        text-align: right;\n",
       "    }\n",
       "</style>\n",
       "<table border=\"1\" class=\"dataframe\">\n",
       "  <thead>\n",
       "    <tr style=\"text-align: right;\">\n",
       "      <th>Securities Account</th>\n",
       "      <th>0</th>\n",
       "      <th>1</th>\n",
       "    </tr>\n",
       "    <tr>\n",
       "      <th>Securities Account</th>\n",
       "      <th></th>\n",
       "      <th></th>\n",
       "    </tr>\n",
       "  </thead>\n",
       "  <tbody>\n",
       "    <tr>\n",
       "      <th>0</th>\n",
       "      <td>4465</td>\n",
       "      <td>0</td>\n",
       "    </tr>\n",
       "    <tr>\n",
       "      <th>1</th>\n",
       "      <td>0</td>\n",
       "      <td>522</td>\n",
       "    </tr>\n",
       "  </tbody>\n",
       "</table>\n",
       "</div>"
      ],
      "text/plain": [
       "Securities Account     0    1\n",
       "Securities Account           \n",
       "0                   4465    0\n",
       "1                      0  522"
      ]
     },
     "execution_count": 47,
     "metadata": {},
     "output_type": "execute_result"
    }
   ],
   "source": [
    "chitable"
   ]
  },
  {
   "cell_type": "code",
   "execution_count": 49,
   "metadata": {},
   "outputs": [],
   "source": [
    "chitable=pd.crosstab(df3[\"Personal Loan\"],df3[\"Securities Account\"])"
   ]
  },
  {
   "cell_type": "code",
   "execution_count": 50,
   "metadata": {},
   "outputs": [
    {
     "data": {
      "text/html": [
       "<div>\n",
       "<style scoped>\n",
       "    .dataframe tbody tr th:only-of-type {\n",
       "        vertical-align: middle;\n",
       "    }\n",
       "\n",
       "    .dataframe tbody tr th {\n",
       "        vertical-align: top;\n",
       "    }\n",
       "\n",
       "    .dataframe thead th {\n",
       "        text-align: right;\n",
       "    }\n",
       "</style>\n",
       "<table border=\"1\" class=\"dataframe\">\n",
       "  <thead>\n",
       "    <tr style=\"text-align: right;\">\n",
       "      <th>Securities Account</th>\n",
       "      <th>0</th>\n",
       "      <th>1</th>\n",
       "    </tr>\n",
       "    <tr>\n",
       "      <th>Personal Loan</th>\n",
       "      <th></th>\n",
       "      <th></th>\n",
       "    </tr>\n",
       "  </thead>\n",
       "  <tbody>\n",
       "    <tr>\n",
       "      <th>0</th>\n",
       "      <td>4045</td>\n",
       "      <td>462</td>\n",
       "    </tr>\n",
       "    <tr>\n",
       "      <th>1</th>\n",
       "      <td>420</td>\n",
       "      <td>60</td>\n",
       "    </tr>\n",
       "  </tbody>\n",
       "</table>\n",
       "</div>"
      ],
      "text/plain": [
       "Securities Account     0    1\n",
       "Personal Loan                \n",
       "0                   4045  462\n",
       "1                    420   60"
      ]
     },
     "execution_count": 50,
     "metadata": {},
     "output_type": "execute_result"
    }
   ],
   "source": [
    "chitable"
   ]
  },
  {
   "cell_type": "code",
   "execution_count": 51,
   "metadata": {},
   "outputs": [],
   "source": [
    "stats,p,dof,expected=chi2_contingency(chitable)"
   ]
  },
  {
   "cell_type": "code",
   "execution_count": 52,
   "metadata": {},
   "outputs": [
    {
     "name": "stdout",
     "output_type": "stream",
     "text": [
      "2.1080092303922933 0.1465298319948713\n"
     ]
    }
   ],
   "source": [
    "print(stats,p)"
   ]
  },
  {
   "cell_type": "code",
   "execution_count": 54,
   "metadata": {},
   "outputs": [],
   "source": [
    "stats,p=pearsonr(df3[\"Personal Loan\"],df3[\"Age\"])"
   ]
  },
  {
   "cell_type": "code",
   "execution_count": 55,
   "metadata": {},
   "outputs": [
    {
     "name": "stdout",
     "output_type": "stream",
     "text": [
      "-0.008003281471975349 0.5720406692719532\n"
     ]
    }
   ],
   "source": [
    "print(stats,p)"
   ]
  },
  {
   "cell_type": "code",
   "execution_count": 56,
   "metadata": {},
   "outputs": [],
   "source": [
    "stats,p=pearsonr(df3[\"Personal Loan\"],df3[\"Experience\"])"
   ]
  },
  {
   "cell_type": "code",
   "execution_count": 57,
   "metadata": {},
   "outputs": [
    {
     "name": "stdout",
     "output_type": "stream",
     "text": [
      "-0.007707522894151847 0.586326667253083\n"
     ]
    }
   ],
   "source": [
    "print(stats,p)"
   ]
  },
  {
   "cell_type": "code",
   "execution_count": 58,
   "metadata": {},
   "outputs": [],
   "source": [
    "stats,p=pearsonr(df3[\"Personal Loan\"],df3[\"Income\"])"
   ]
  },
  {
   "cell_type": "code",
   "execution_count": 59,
   "metadata": {},
   "outputs": [
    {
     "name": "stdout",
     "output_type": "stream",
     "text": [
      "0.5025130678174459 1.993056e-317\n"
     ]
    }
   ],
   "source": [
    "print(stats,p)"
   ]
  },
  {
   "cell_type": "code",
   "execution_count": 60,
   "metadata": {},
   "outputs": [],
   "source": [
    "stats,p=pearsonr(df3[\"Personal Loan\"],df3[\"Education\"])"
   ]
  },
  {
   "cell_type": "code",
   "execution_count": 61,
   "metadata": {},
   "outputs": [
    {
     "name": "stdout",
     "output_type": "stream",
     "text": [
      "0.13761779930017948 1.6319126552640622e-22\n"
     ]
    }
   ],
   "source": [
    "print(stats,p)"
   ]
  },
  {
   "cell_type": "code",
   "execution_count": 62,
   "metadata": {},
   "outputs": [],
   "source": [
    "stats,p=pearsonr(df3[\"Personal Loan\"],df3[\"Mortgage\"])"
   ]
  },
  {
   "cell_type": "code",
   "execution_count": 63,
   "metadata": {},
   "outputs": [
    {
     "name": "stdout",
     "output_type": "stream",
     "text": [
      "0.14169994211956266 8.738439959264904e-24\n"
     ]
    }
   ],
   "source": [
    "print(stats,p)"
   ]
  },
  {
   "cell_type": "code",
   "execution_count": 64,
   "metadata": {},
   "outputs": [
    {
     "data": {
      "text/plain": [
       "[<matplotlib.lines.Line2D at 0x169d89f2d60>]"
      ]
     },
     "execution_count": 64,
     "metadata": {},
     "output_type": "execute_result"
    },
    {
     "data": {
      "image/png": "[encoded data removed]",
      "text/plain": [
       "<Figure size 432x288 with 1 Axes>"
      ]
     },
     "metadata": {
      "needs_background": "light"
     },
     "output_type": "display_data"
    }
   ],
   "source": [
    "plt.plot(df3[\"Personal Loan\"],df3[\"Income\"])"
   ]
  },
  {
   "cell_type": "code",
   "execution_count": 66,
   "metadata": {},
   "outputs": [
    {
     "data": {
      "text/html": [
       "<div>\n",
       "<style scoped>\n",
       "    .dataframe tbody tr th:only-of-type {\n",
       "        vertical-align: middle;\n",
       "    }\n",
       "\n",
       "    .dataframe tbody tr th {\n",
       "        vertical-align: top;\n",
       "    }\n",
       "\n",
       "    .dataframe thead th {\n",
       "        text-align: right;\n",
       "    }\n",
       "</style>\n",
       "<table border=\"1\" class=\"dataframe\">\n",
       "  <thead>\n",
       "    <tr style=\"text-align: right;\">\n",
       "      <th></th>\n",
       "      <th>Age</th>\n",
       "      <th>Experience</th>\n",
       "      <th>Income</th>\n",
       "      <th>Family</th>\n",
       "      <th>CCAvg</th>\n",
       "      <th>Education</th>\n",
       "      <th>Mortgage</th>\n",
       "      <th>Personal Loan</th>\n",
       "      <th>Securities Account</th>\n",
       "      <th>CD Account</th>\n",
       "      <th>Online</th>\n",
       "      <th>CreditCard</th>\n",
       "    </tr>\n",
       "  </thead>\n",
       "  <tbody>\n",
       "    <tr>\n",
       "      <th>Age</th>\n",
       "      <td>1.000000</td>\n",
       "      <td>0.994221</td>\n",
       "      <td>-0.056897</td>\n",
       "      <td>-0.045533</td>\n",
       "      <td>-0.052540</td>\n",
       "      <td>0.042356</td>\n",
       "      <td>-0.013014</td>\n",
       "      <td>-0.008003</td>\n",
       "      <td>-0.000715</td>\n",
       "      <td>0.007849</td>\n",
       "      <td>0.013989</td>\n",
       "      <td>0.006381</td>\n",
       "    </tr>\n",
       "    <tr>\n",
       "      <th>Experience</th>\n",
       "      <td>0.994221</td>\n",
       "      <td>1.000000</td>\n",
       "      <td>-0.048277</td>\n",
       "      <td>-0.051718</td>\n",
       "      <td>-0.050610</td>\n",
       "      <td>0.014166</td>\n",
       "      <td>-0.011083</td>\n",
       "      <td>-0.007708</td>\n",
       "      <td>-0.001529</td>\n",
       "      <td>0.010151</td>\n",
       "      <td>0.014245</td>\n",
       "      <td>0.007628</td>\n",
       "    </tr>\n",
       "    <tr>\n",
       "      <th>Income</th>\n",
       "      <td>-0.056897</td>\n",
       "      <td>-0.048277</td>\n",
       "      <td>1.000000</td>\n",
       "      <td>-0.157922</td>\n",
       "      <td>0.646073</td>\n",
       "      <td>-0.186847</td>\n",
       "      <td>0.206420</td>\n",
       "      <td>0.502513</td>\n",
       "      <td>-0.002992</td>\n",
       "      <td>0.169589</td>\n",
       "      <td>0.014646</td>\n",
       "      <td>-0.003479</td>\n",
       "    </tr>\n",
       "    <tr>\n",
       "      <th>Family</th>\n",
       "      <td>-0.045533</td>\n",
       "      <td>-0.051718</td>\n",
       "      <td>-0.157922</td>\n",
       "      <td>1.000000</td>\n",
       "      <td>-0.109812</td>\n",
       "      <td>0.066145</td>\n",
       "      <td>-0.020595</td>\n",
       "      <td>0.061398</td>\n",
       "      <td>0.019957</td>\n",
       "      <td>0.014081</td>\n",
       "      <td>0.009907</td>\n",
       "      <td>0.012018</td>\n",
       "    </tr>\n",
       "    <tr>\n",
       "      <th>CCAvg</th>\n",
       "      <td>-0.052540</td>\n",
       "      <td>-0.050610</td>\n",
       "      <td>0.646073</td>\n",
       "      <td>-0.109812</td>\n",
       "      <td>1.000000</td>\n",
       "      <td>-0.135299</td>\n",
       "      <td>0.109166</td>\n",
       "      <td>0.366672</td>\n",
       "      <td>0.014573</td>\n",
       "      <td>0.136244</td>\n",
       "      <td>-0.002727</td>\n",
       "      <td>-0.007404</td>\n",
       "    </tr>\n",
       "    <tr>\n",
       "      <th>Education</th>\n",
       "      <td>0.042356</td>\n",
       "      <td>0.014166</td>\n",
       "      <td>-0.186847</td>\n",
       "      <td>0.066145</td>\n",
       "      <td>-0.135299</td>\n",
       "      <td>1.000000</td>\n",
       "      <td>-0.032256</td>\n",
       "      <td>0.137618</td>\n",
       "      <td>-0.010132</td>\n",
       "      <td>0.014475</td>\n",
       "      <td>-0.015633</td>\n",
       "      <td>-0.010307</td>\n",
       "    </tr>\n",
       "    <tr>\n",
       "      <th>Mortgage</th>\n",
       "      <td>-0.013014</td>\n",
       "      <td>-0.011083</td>\n",
       "      <td>0.206420</td>\n",
       "      <td>-0.020595</td>\n",
       "      <td>0.109166</td>\n",
       "      <td>-0.032256</td>\n",
       "      <td>1.000000</td>\n",
       "      <td>0.141700</td>\n",
       "      <td>-0.005909</td>\n",
       "      <td>0.088987</td>\n",
       "      <td>-0.005266</td>\n",
       "      <td>-0.007930</td>\n",
       "    </tr>\n",
       "    <tr>\n",
       "      <th>Personal Loan</th>\n",
       "      <td>-0.008003</td>\n",
       "      <td>-0.007708</td>\n",
       "      <td>0.502513</td>\n",
       "      <td>0.061398</td>\n",
       "      <td>0.366672</td>\n",
       "      <td>0.137618</td>\n",
       "      <td>0.141700</td>\n",
       "      <td>1.000000</td>\n",
       "      <td>0.021670</td>\n",
       "      <td>0.316210</td>\n",
       "      <td>0.006718</td>\n",
       "      <td>0.002399</td>\n",
       "    </tr>\n",
       "    <tr>\n",
       "      <th>Securities Account</th>\n",
       "      <td>-0.000715</td>\n",
       "      <td>-0.001529</td>\n",
       "      <td>-0.002992</td>\n",
       "      <td>0.019957</td>\n",
       "      <td>0.014573</td>\n",
       "      <td>-0.010132</td>\n",
       "      <td>-0.005909</td>\n",
       "      <td>0.021670</td>\n",
       "      <td>1.000000</td>\n",
       "      <td>0.316883</td>\n",
       "      <td>0.013096</td>\n",
       "      <td>-0.015466</td>\n",
       "    </tr>\n",
       "    <tr>\n",
       "      <th>CD Account</th>\n",
       "      <td>0.007849</td>\n",
       "      <td>0.010151</td>\n",
       "      <td>0.169589</td>\n",
       "      <td>0.014081</td>\n",
       "      <td>0.136244</td>\n",
       "      <td>0.014475</td>\n",
       "      <td>0.088987</td>\n",
       "      <td>0.316210</td>\n",
       "      <td>0.316883</td>\n",
       "      <td>1.000000</td>\n",
       "      <td>0.176414</td>\n",
       "      <td>0.278559</td>\n",
       "    </tr>\n",
       "    <tr>\n",
       "      <th>Online</th>\n",
       "      <td>0.013989</td>\n",
       "      <td>0.014245</td>\n",
       "      <td>0.014646</td>\n",
       "      <td>0.009907</td>\n",
       "      <td>-0.002727</td>\n",
       "      <td>-0.015633</td>\n",
       "      <td>-0.005266</td>\n",
       "      <td>0.006718</td>\n",
       "      <td>0.013096</td>\n",
       "      <td>0.176414</td>\n",
       "      <td>1.000000</td>\n",
       "      <td>0.004712</td>\n",
       "    </tr>\n",
       "    <tr>\n",
       "      <th>CreditCard</th>\n",
       "      <td>0.006381</td>\n",
       "      <td>0.007628</td>\n",
       "      <td>-0.003479</td>\n",
       "      <td>0.012018</td>\n",
       "      <td>-0.007404</td>\n",
       "      <td>-0.010307</td>\n",
       "      <td>-0.007930</td>\n",
       "      <td>0.002399</td>\n",
       "      <td>-0.015466</td>\n",
       "      <td>0.278559</td>\n",
       "      <td>0.004712</td>\n",
       "      <td>1.000000</td>\n",
       "    </tr>\n",
       "  </tbody>\n",
       "</table>\n",
       "</div>"
      ],
      "text/plain": [
       "                         Age  Experience    Income    Family     CCAvg  \\\n",
       "Age                 1.000000    0.994221 -0.056897 -0.045533 -0.052540   \n",
       "Experience          0.994221    1.000000 -0.048277 -0.051718 -0.050610   \n",
       "Income             -0.056897   -0.048277  1.000000 -0.157922  0.646073   \n",
       "Family             -0.045533   -0.051718 -0.157922  1.000000 -0.109812   \n",
       "CCAvg              -0.052540   -0.050610  0.646073 -0.109812  1.000000   \n",
       "Education           0.042356    0.014166 -0.186847  0.066145 -0.135299   \n",
       "Mortgage           -0.013014   -0.011083  0.206420 -0.020595  0.109166   \n",
       "Personal Loan      -0.008003   -0.007708  0.502513  0.061398  0.366672   \n",
       "Securities Account -0.000715   -0.001529 -0.002992  0.019957  0.014573   \n",
       "CD Account          0.007849    0.010151  0.169589  0.014081  0.136244   \n",
       "Online              0.013989    0.014245  0.014646  0.009907 -0.002727   \n",
       "CreditCard          0.006381    0.007628 -0.003479  0.012018 -0.007404   \n",
       "\n",
       "                    Education  Mortgage  Personal Loan  Securities Account  \\\n",
       "Age                  0.042356 -0.013014      -0.008003           -0.000715   \n",
       "Experience           0.014166 -0.011083      -0.007708           -0.001529   \n",
       "Income              -0.186847  0.206420       0.502513           -0.002992   \n",
       "Family               0.066145 -0.020595       0.061398            0.019957   \n",
       "CCAvg               -0.135299  0.109166       0.366672            0.014573   \n",
       "Education            1.000000 -0.032256       0.137618           -0.010132   \n",
       "Mortgage            -0.032256  1.000000       0.141700           -0.005909   \n",
       "Personal Loan        0.137618  0.141700       1.000000            0.021670   \n",
       "Securities Account  -0.010132 -0.005909       0.021670            1.000000   \n",
       "CD Account           0.014475  0.088987       0.316210            0.316883   \n",
       "Online              -0.015633 -0.005266       0.006718            0.013096   \n",
       "CreditCard          -0.010307 -0.007930       0.002399           -0.015466   \n",
       "\n",
       "                    CD Account    Online  CreditCard  \n",
       "Age                   0.007849  0.013989    0.006381  \n",
       "Experience            0.010151  0.014245    0.007628  \n",
       "Income                0.169589  0.014646   -0.003479  \n",
       "Family                0.014081  0.009907    0.012018  \n",
       "CCAvg                 0.136244 -0.002727   -0.007404  \n",
       "Education             0.014475 -0.015633   -0.010307  \n",
       "Mortgage              0.088987 -0.005266   -0.007930  \n",
       "Personal Loan         0.316210  0.006718    0.002399  \n",
       "Securities Account    0.316883  0.013096   -0.015466  \n",
       "CD Account            1.000000  0.176414    0.278559  \n",
       "Online                0.176414  1.000000    0.004712  \n",
       "CreditCard            0.278559  0.004712    1.000000  "
      ]
     },
     "execution_count": 66,
     "metadata": {},
     "output_type": "execute_result"
    }
   ],
   "source": [
    "df3.corr()\n"
   ]
  },
  {
   "cell_type": "code",
   "execution_count": 67,
   "metadata": {},
   "outputs": [],
   "source": [
    "import statsmodels.api as sm"
   ]
  },
  {
   "cell_type": "code",
   "execution_count": 68,
   "metadata": {},
   "outputs": [],
   "source": [
    "Y=df3[\"Personal Loan\"]"
   ]
  },
  {
   "cell_type": "code",
   "execution_count": 70,
   "metadata": {},
   "outputs": [],
   "source": [
    "X=df3[['Age', 'Experience', 'Income', 'Family', 'CCAvg',\n",
    "       'Education', 'Mortgage', 'Personal Loan', 'Securities Account',\n",
    "       'CD Account', 'Online', 'CreditCard']]"
   ]
  },
  {
   "cell_type": "code",
   "execution_count": 77,
   "metadata": {},
   "outputs": [],
   "source": [
    "X1=sm.add_constant(X)"
   ]
  },
  {
   "cell_type": "code",
   "execution_count": 80,
   "metadata": {},
   "outputs": [],
   "source": [
    "Logistic=sm.Logit(Y,X)"
   ]
  },
  {
   "cell_type": "code",
   "execution_count": 81,
   "metadata": {},
   "outputs": [
    {
     "name": "stdout",
     "output_type": "stream",
     "text": [
      "Warning: Maximum number of iterations has been exceeded.\n",
      "         Current function value: 0.000000\n",
      "         Iterations: 35\n"
     ]
    },
    {
     "name": "stderr",
     "output_type": "stream",
     "text": [
      "C:\\Users\\tejas\\anaconda3\\lib\\site-packages\\statsmodels\\base\\model.py:566: ConvergenceWarning: Maximum Likelihood optimization failed to converge. Check mle_retvals\n",
      "  warnings.warn(\"Maximum Likelihood optimization failed to \"\n"
     ]
    }
   ],
   "source": [
    "result=Logistic.fit()"
   ]
  },
  {
   "cell_type": "code",
   "execution_count": 82,
   "metadata": {},
   "outputs": [
    {
     "data": {
      "text/html": [
       "<table class=\"simpletable\">\n",
       "<caption>Logit Regression Results</caption>\n",
       "<tr>\n",
       "  <th>Dep. Variable:</th>     <td>Personal Loan</td>  <th>  No. Observations:  </th>   <td>  4987</td>   \n",
       "</tr>\n",
       "<tr>\n",
       "  <th>Model:</th>                 <td>Logit</td>      <th>  Df Residuals:      </th>   <td>  4975</td>   \n",
       "</tr>\n",
       "<tr>\n",
       "  <th>Method:</th>                 <td>MLE</td>       <th>  Df Model:          </th>   <td>    11</td>   \n",
       "</tr>\n",
       "<tr>\n",
       "  <th>Date:</th>            <td>Sat, 19 Jun 2021</td> <th>  Pseudo R-squ.:     </th>   <td> 1.000</td>   \n",
       "</tr>\n",
       "<tr>\n",
       "  <th>Time:</th>                <td>22:29:56</td>     <th>  Log-Likelihood:    </th> <td>-2.4087e-06</td>\n",
       "</tr>\n",
       "<tr>\n",
       "  <th>converged:</th>             <td>False</td>      <th>  LL-Null:           </th>  <td> -1579.7</td>  \n",
       "</tr>\n",
       "<tr>\n",
       "  <th>Covariance Type:</th>     <td>nonrobust</td>    <th>  LLR p-value:       </th>   <td> 0.000</td>   \n",
       "</tr>\n",
       "</table>\n",
       "<table class=\"simpletable\">\n",
       "<tr>\n",
       "           <td></td>             <th>coef</th>     <th>std err</th>      <th>z</th>      <th>P>|z|</th>  <th>[0.025</th>    <th>0.975]</th>  \n",
       "</tr>\n",
       "<tr>\n",
       "  <th>Age</th>                <td>   -1.8242</td> <td>  797.685</td> <td>   -0.002</td> <td> 0.998</td> <td>-1565.258</td> <td> 1561.610</td>\n",
       "</tr>\n",
       "<tr>\n",
       "  <th>Experience</th>         <td>    1.7824</td> <td>  792.922</td> <td>    0.002</td> <td> 0.998</td> <td>-1552.316</td> <td> 1555.881</td>\n",
       "</tr>\n",
       "<tr>\n",
       "  <th>Income</th>             <td>    0.0140</td> <td>   33.029</td> <td>    0.000</td> <td> 1.000</td> <td>  -64.722</td> <td>   64.750</td>\n",
       "</tr>\n",
       "<tr>\n",
       "  <th>Family</th>             <td>    0.2040</td> <td>  690.862</td> <td>    0.000</td> <td> 1.000</td> <td>-1353.860</td> <td> 1354.268</td>\n",
       "</tr>\n",
       "<tr>\n",
       "  <th>CCAvg</th>              <td>    0.5617</td> <td>  641.046</td> <td>    0.001</td> <td> 0.999</td> <td>-1255.864</td> <td> 1256.988</td>\n",
       "</tr>\n",
       "<tr>\n",
       "  <th>Education</th>          <td>    5.7301</td> <td> 6070.568</td> <td>    0.001</td> <td> 0.999</td> <td>-1.19e+04</td> <td> 1.19e+04</td>\n",
       "</tr>\n",
       "<tr>\n",
       "  <th>Mortgage</th>           <td>    0.0049</td> <td>    6.615</td> <td>    0.001</td> <td> 0.999</td> <td>  -12.960</td> <td>   12.970</td>\n",
       "</tr>\n",
       "<tr>\n",
       "  <th>Personal Loan</th>      <td>   55.2827</td> <td>  1.4e+04</td> <td>    0.004</td> <td> 0.997</td> <td>-2.74e+04</td> <td> 2.75e+04</td>\n",
       "</tr>\n",
       "<tr>\n",
       "  <th>Securities Account</th> <td>   -0.6248</td> <td> 6191.619</td> <td>   -0.000</td> <td> 1.000</td> <td>-1.21e+04</td> <td> 1.21e+04</td>\n",
       "</tr>\n",
       "<tr>\n",
       "  <th>CD Account</th>         <td>   -2.4252</td> <td> 6174.808</td> <td>   -0.000</td> <td> 1.000</td> <td>-1.21e+04</td> <td> 1.21e+04</td>\n",
       "</tr>\n",
       "<tr>\n",
       "  <th>Online</th>             <td>    4.7035</td> <td> 4982.605</td> <td>    0.001</td> <td> 0.999</td> <td>-9761.023</td> <td> 9770.429</td>\n",
       "</tr>\n",
       "<tr>\n",
       "  <th>CreditCard</th>         <td>    3.0432</td> <td> 2255.697</td> <td>    0.001</td> <td> 0.999</td> <td>-4418.041</td> <td> 4424.128</td>\n",
       "</tr>\n",
       "</table><br/><br/>Complete Separation: The results show that there iscomplete separation.<br/>In this case the Maximum Likelihood Estimator does not exist and the parameters<br/>are not identified."
      ],
      "text/plain": [
       "<class 'statsmodels.iolib.summary.Summary'>\n",
       "\"\"\"\n",
       "                           Logit Regression Results                           \n",
       "==============================================================================\n",
       "Dep. Variable:          Personal Loan   No. Observations:                 4987\n",
       "Model:                          Logit   Df Residuals:                     4975\n",
       "Method:                           MLE   Df Model:                           11\n",
       "Date:                Sat, 19 Jun 2021   Pseudo R-squ.:                   1.000\n",
       "Time:                        22:29:56   Log-Likelihood:            -2.4087e-06\n",
       "converged:                      False   LL-Null:                       -1579.7\n",
       "Covariance Type:            nonrobust   LLR p-value:                     0.000\n",
       "======================================================================================\n",
       "                         coef    std err          z      P>|z|      [0.025      0.975]\n",
       "--------------------------------------------------------------------------------------\n",
       "Age                   -1.8242    797.685     -0.002      0.998   -1565.258    1561.610\n",
       "Experience             1.7824    792.922      0.002      0.998   -1552.316    1555.881\n",
       "Income                 0.0140     33.029      0.000      1.000     -64.722      64.750\n",
       "Family                 0.2040    690.862      0.000      1.000   -1353.860    1354.268\n",
       "CCAvg                  0.5617    641.046      0.001      0.999   -1255.864    1256.988\n",
       "Education              5.7301   6070.568      0.001      0.999   -1.19e+04    1.19e+04\n",
       "Mortgage               0.0049      6.615      0.001      0.999     -12.960      12.970\n",
       "Personal Loan         55.2827    1.4e+04      0.004      0.997   -2.74e+04    2.75e+04\n",
       "Securities Account    -0.6248   6191.619     -0.000      1.000   -1.21e+04    1.21e+04\n",
       "CD Account            -2.4252   6174.808     -0.000      1.000   -1.21e+04    1.21e+04\n",
       "Online                 4.7035   4982.605      0.001      0.999   -9761.023    9770.429\n",
       "CreditCard             3.0432   2255.697      0.001      0.999   -4418.041    4424.128\n",
       "======================================================================================\n",
       "\n",
       "Complete Separation: The results show that there iscomplete separation.\n",
       "In this case the Maximum Likelihood Estimator does not exist and the parameters\n",
       "are not identified.\n",
       "\"\"\""
      ]
     },
     "execution_count": 82,
     "metadata": {},
     "output_type": "execute_result"
    }
   ],
   "source": [
    "result.summary()"
   ]
  },
  {
   "cell_type": "code",
   "execution_count": null,
   "metadata": {},
   "outputs": [],
   "source": []
  }
 ],
 "metadata": {
  "kernelspec": {
   "display_name": "Python 3",
   "language": "python",
   "name": "python3"
  },
  "language_info": {
   "codemirror_mode": {
    "name": "ipython",
    "version": 3
   },
   "file_extension": ".py",
   "mimetype": "text/x-python",
   "name": "python",
   "nbconvert_exporter": "python",
   "pygments_lexer": "ipython3",
   "version": "3.8.5"
  }
 },
 "nbformat": 4,
 "nbformat_minor": 4
}
