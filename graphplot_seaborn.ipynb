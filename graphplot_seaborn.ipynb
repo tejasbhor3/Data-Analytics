{
 "cells": [
  {
   "cell_type": "code",
   "execution_count": 12,
   "metadata": {},
   "outputs": [
    {
     "name": "stdout",
     "output_type": "stream",
     "text": [
      "     PassengerId  Survived  Pclass  \\\n",
      "0              1         0       3   \n",
      "1              2         1       1   \n",
      "2              3         1       3   \n",
      "3              4         1       1   \n",
      "4              5         0       3   \n",
      "5              6         0       3   \n",
      "6              7         0       1   \n",
      "7              8         0       3   \n",
      "8              9         1       3   \n",
      "9             10         1       2   \n",
      "10            11         1       3   \n",
      "11            12         1       1   \n",
      "12            13         0       3   \n",
      "13            14         0       3   \n",
      "14            15         0       3   \n",
      "15            16         1       2   \n",
      "16            17         0       3   \n",
      "17            18         1       2   \n",
      "18            19         0       3   \n",
      "19            20         1       3   \n",
      "20            21         0       2   \n",
      "21            22         1       2   \n",
      "22            23         1       3   \n",
      "23            24         1       1   \n",
      "24            25         0       3   \n",
      "25            26         1       3   \n",
      "26            27         0       3   \n",
      "27            28         0       1   \n",
      "28            29         1       3   \n",
      "29            30         0       3   \n",
      "..           ...       ...     ...   \n",
      "861          862         0       2   \n",
      "862          863         1       1   \n",
      "863          864         0       3   \n",
      "864          865         0       2   \n",
      "865          866         1       2   \n",
      "866          867         1       2   \n",
      "867          868         0       1   \n",
      "868          869         0       3   \n",
      "869          870         1       3   \n",
      "870          871         0       3   \n",
      "871          872         1       1   \n",
      "872          873         0       1   \n",
      "873          874         0       3   \n",
      "874          875         1       2   \n",
      "875          876         1       3   \n",
      "876          877         0       3   \n",
      "877          878         0       3   \n",
      "878          879         0       3   \n",
      "879          880         1       1   \n",
      "880          881         1       2   \n",
      "881          882         0       3   \n",
      "882          883         0       3   \n",
      "883          884         0       2   \n",
      "884          885         0       3   \n",
      "885          886         0       3   \n",
      "886          887         0       2   \n",
      "887          888         1       1   \n",
      "888          889         0       3   \n",
      "889          890         1       1   \n",
      "890          891         0       3   \n",
      "\n",
      "                                                  Name     Sex   Age  SibSp  \\\n",
      "0                              Braund, Mr. Owen Harris    male  22.0      1   \n",
      "1    Cumings, Mrs. John Bradley (Florence Briggs Th...  female  38.0      1   \n",
      "2                               Heikkinen, Miss. Laina  female  26.0      0   \n",
      "3         Futrelle, Mrs. Jacques Heath (Lily May Peel)  female  35.0      1   \n",
      "4                             Allen, Mr. William Henry    male  35.0      0   \n",
      "5                                     Moran, Mr. James    male   NaN      0   \n",
      "6                              McCarthy, Mr. Timothy J    male  54.0      0   \n",
      "7                       Palsson, Master. Gosta Leonard    male   2.0      3   \n",
      "8    Johnson, Mrs. Oscar W (Elisabeth Vilhelmina Berg)  female  27.0      0   \n",
      "9                  Nasser, Mrs. Nicholas (Adele Achem)  female  14.0      1   \n",
      "10                     Sandstrom, Miss. Marguerite Rut  female   4.0      1   \n",
      "11                            Bonnell, Miss. Elizabeth  female  58.0      0   \n",
      "12                      Saundercock, Mr. William Henry    male  20.0      0   \n",
      "13                         Andersson, Mr. Anders Johan    male  39.0      1   \n",
      "14                Vestrom, Miss. Hulda Amanda Adolfina  female  14.0      0   \n",
      "15                    Hewlett, Mrs. (Mary D Kingcome)   female  55.0      0   \n",
      "16                                Rice, Master. Eugene    male   2.0      4   \n",
      "17                        Williams, Mr. Charles Eugene    male   NaN      0   \n",
      "18   Vander Planke, Mrs. Julius (Emelia Maria Vande...  female  31.0      1   \n",
      "19                             Masselmani, Mrs. Fatima  female   NaN      0   \n",
      "20                                Fynney, Mr. Joseph J    male  35.0      0   \n",
      "21                               Beesley, Mr. Lawrence    male  34.0      0   \n",
      "22                         McGowan, Miss. Anna \"Annie\"  female  15.0      0   \n",
      "23                        Sloper, Mr. William Thompson    male  28.0      0   \n",
      "24                       Palsson, Miss. Torborg Danira  female   8.0      3   \n",
      "25   Asplund, Mrs. Carl Oscar (Selma Augusta Emilia...  female  38.0      1   \n",
      "26                             Emir, Mr. Farred Chehab    male   NaN      0   \n",
      "27                      Fortune, Mr. Charles Alexander    male  19.0      3   \n",
      "28                       O'Dwyer, Miss. Ellen \"Nellie\"  female   NaN      0   \n",
      "29                                 Todoroff, Mr. Lalio    male   NaN      0   \n",
      "..                                                 ...     ...   ...    ...   \n",
      "861                        Giles, Mr. Frederick Edward    male  21.0      1   \n",
      "862  Swift, Mrs. Frederick Joel (Margaret Welles Ba...  female  48.0      0   \n",
      "863                  Sage, Miss. Dorothy Edith \"Dolly\"  female   NaN      8   \n",
      "864                             Gill, Mr. John William    male  24.0      0   \n",
      "865                           Bystrom, Mrs. (Karolina)  female  42.0      0   \n",
      "866                       Duran y More, Miss. Asuncion  female  27.0      1   \n",
      "867               Roebling, Mr. Washington Augustus II    male  31.0      0   \n",
      "868                        van Melkebeke, Mr. Philemon    male   NaN      0   \n",
      "869                    Johnson, Master. Harold Theodor    male   4.0      1   \n",
      "870                                  Balkic, Mr. Cerin    male  26.0      0   \n",
      "871   Beckwith, Mrs. Richard Leonard (Sallie Monypeny)  female  47.0      1   \n",
      "872                           Carlsson, Mr. Frans Olof    male  33.0      0   \n",
      "873                        Vander Cruyssen, Mr. Victor    male  47.0      0   \n",
      "874              Abelson, Mrs. Samuel (Hannah Wizosky)  female  28.0      1   \n",
      "875                   Najib, Miss. Adele Kiamie \"Jane\"  female  15.0      0   \n",
      "876                      Gustafsson, Mr. Alfred Ossian    male  20.0      0   \n",
      "877                               Petroff, Mr. Nedelio    male  19.0      0   \n",
      "878                                 Laleff, Mr. Kristo    male   NaN      0   \n",
      "879      Potter, Mrs. Thomas Jr (Lily Alexenia Wilson)  female  56.0      0   \n",
      "880       Shelley, Mrs. William (Imanita Parrish Hall)  female  25.0      0   \n",
      "881                                 Markun, Mr. Johann    male  33.0      0   \n",
      "882                       Dahlberg, Miss. Gerda Ulrika  female  22.0      0   \n",
      "883                      Banfield, Mr. Frederick James    male  28.0      0   \n",
      "884                             Sutehall, Mr. Henry Jr    male  25.0      0   \n",
      "885               Rice, Mrs. William (Margaret Norton)  female  39.0      0   \n",
      "886                              Montvila, Rev. Juozas    male  27.0      0   \n",
      "887                       Graham, Miss. Margaret Edith  female  19.0      0   \n",
      "888           Johnston, Miss. Catherine Helen \"Carrie\"  female   NaN      1   \n",
      "889                              Behr, Mr. Karl Howell    male  26.0      0   \n",
      "890                                Dooley, Mr. Patrick    male  32.0      0   \n",
      "\n",
      "     Parch            Ticket      Fare        Cabin Embarked  \n",
      "0        0         A/5 21171    7.2500          NaN        S  \n",
      "1        0          PC 17599   71.2833          C85        C  \n",
      "2        0  STON/O2. 3101282    7.9250          NaN        S  \n",
      "3        0            113803   53.1000         C123        S  \n",
      "4        0            373450    8.0500          NaN        S  \n",
      "5        0            330877    8.4583          NaN        Q  \n",
      "6        0             17463   51.8625          E46        S  \n",
      "7        1            349909   21.0750          NaN        S  \n",
      "8        2            347742   11.1333          NaN        S  \n",
      "9        0            237736   30.0708          NaN        C  \n",
      "10       1           PP 9549   16.7000           G6        S  \n",
      "11       0            113783   26.5500         C103        S  \n",
      "12       0         A/5. 2151    8.0500          NaN        S  \n",
      "13       5            347082   31.2750          NaN        S  \n",
      "14       0            350406    7.8542          NaN        S  \n",
      "15       0            248706   16.0000          NaN        S  \n",
      "16       1            382652   29.1250          NaN        Q  \n",
      "17       0            244373   13.0000          NaN        S  \n",
      "18       0            345763   18.0000          NaN        S  \n",
      "19       0              2649    7.2250          NaN        C  \n",
      "20       0            239865   26.0000          NaN        S  \n",
      "21       0            248698   13.0000          D56        S  \n",
      "22       0            330923    8.0292          NaN        Q  \n",
      "23       0            113788   35.5000           A6        S  \n",
      "24       1            349909   21.0750          NaN        S  \n",
      "25       5            347077   31.3875          NaN        S  \n",
      "26       0              2631    7.2250          NaN        C  \n",
      "27       2             19950  263.0000  C23 C25 C27        S  \n",
      "28       0            330959    7.8792          NaN        Q  \n",
      "29       0            349216    7.8958          NaN        S  \n",
      "..     ...               ...       ...          ...      ...  \n",
      "861      0             28134   11.5000          NaN        S  \n",
      "862      0             17466   25.9292          D17        S  \n",
      "863      2          CA. 2343   69.5500          NaN        S  \n",
      "864      0            233866   13.0000          NaN        S  \n",
      "865      0            236852   13.0000          NaN        S  \n",
      "866      0     SC/PARIS 2149   13.8583          NaN        C  \n",
      "867      0          PC 17590   50.4958          A24        S  \n",
      "868      0            345777    9.5000          NaN        S  \n",
      "869      1            347742   11.1333          NaN        S  \n",
      "870      0            349248    7.8958          NaN        S  \n",
      "871      1             11751   52.5542          D35        S  \n",
      "872      0               695    5.0000  B51 B53 B55        S  \n",
      "873      0            345765    9.0000          NaN        S  \n",
      "874      0         P/PP 3381   24.0000          NaN        C  \n",
      "875      0              2667    7.2250          NaN        C  \n",
      "876      0              7534    9.8458          NaN        S  \n",
      "877      0            349212    7.8958          NaN        S  \n",
      "878      0            349217    7.8958          NaN        S  \n",
      "879      1             11767   83.1583          C50        C  \n",
      "880      1            230433   26.0000          NaN        S  \n",
      "881      0            349257    7.8958          NaN        S  \n",
      "882      0              7552   10.5167          NaN        S  \n",
      "883      0  C.A./SOTON 34068   10.5000          NaN        S  \n",
      "884      0   SOTON/OQ 392076    7.0500          NaN        S  \n",
      "885      5            382652   29.1250          NaN        Q  \n",
      "886      0            211536   13.0000          NaN        S  \n",
      "887      0            112053   30.0000          B42        S  \n",
      "888      2        W./C. 6607   23.4500          NaN        S  \n",
      "889      0            111369   30.0000         C148        C  \n",
      "890      0            370376    7.7500          NaN        Q  \n",
      "\n",
      "[891 rows x 12 columns]\n",
      "     PassengerId  Survived  Pclass  \\\n",
      "1              2         1       1   \n",
      "3              4         1       1   \n",
      "6              7         0       1   \n",
      "10            11         1       3   \n",
      "11            12         1       1   \n",
      "21            22         1       2   \n",
      "23            24         1       1   \n",
      "27            28         0       1   \n",
      "52            53         1       1   \n",
      "54            55         0       1   \n",
      "62            63         0       1   \n",
      "66            67         1       2   \n",
      "75            76         0       3   \n",
      "88            89         1       1   \n",
      "92            93         0       1   \n",
      "96            97         0       1   \n",
      "97            98         1       1   \n",
      "102          103         0       1   \n",
      "110          111         0       1   \n",
      "118          119         0       1   \n",
      "123          124         1       2   \n",
      "124          125         0       1   \n",
      "136          137         1       1   \n",
      "137          138         0       1   \n",
      "139          140         0       1   \n",
      "148          149         0       2   \n",
      "151          152         1       1   \n",
      "170          171         0       1   \n",
      "174          175         0       1   \n",
      "177          178         0       1   \n",
      "..           ...       ...     ...   \n",
      "737          738         1       1   \n",
      "741          742         0       1   \n",
      "742          743         1       1   \n",
      "745          746         0       1   \n",
      "748          749         0       1   \n",
      "751          752         1       3   \n",
      "759          760         1       1   \n",
      "763          764         1       1   \n",
      "765          766         1       1   \n",
      "772          773         0       2   \n",
      "779          780         1       1   \n",
      "781          782         1       1   \n",
      "782          783         0       1   \n",
      "789          790         0       1   \n",
      "796          797         1       1   \n",
      "802          803         1       1   \n",
      "806          807         0       1   \n",
      "809          810         1       1   \n",
      "820          821         1       1   \n",
      "823          824         1       3   \n",
      "835          836         1       1   \n",
      "853          854         1       1   \n",
      "857          858         1       1   \n",
      "862          863         1       1   \n",
      "867          868         0       1   \n",
      "871          872         1       1   \n",
      "872          873         0       1   \n",
      "879          880         1       1   \n",
      "887          888         1       1   \n",
      "889          890         1       1   \n",
      "\n",
      "                                                  Name     Sex   Age  SibSp  \\\n",
      "1    Cumings, Mrs. John Bradley (Florence Briggs Th...  female  38.0      1   \n",
      "3         Futrelle, Mrs. Jacques Heath (Lily May Peel)  female  35.0      1   \n",
      "6                              McCarthy, Mr. Timothy J    male  54.0      0   \n",
      "10                     Sandstrom, Miss. Marguerite Rut  female   4.0      1   \n",
      "11                            Bonnell, Miss. Elizabeth  female  58.0      0   \n",
      "21                               Beesley, Mr. Lawrence    male  34.0      0   \n",
      "23                        Sloper, Mr. William Thompson    male  28.0      0   \n",
      "27                      Fortune, Mr. Charles Alexander    male  19.0      3   \n",
      "52            Harper, Mrs. Henry Sleeper (Myna Haxtun)  female  49.0      1   \n",
      "54                      Ostby, Mr. Engelhart Cornelius    male  65.0      0   \n",
      "62                         Harris, Mr. Henry Birkhardt    male  45.0      1   \n",
      "66                        Nye, Mrs. (Elizabeth Ramell)  female  29.0      0   \n",
      "75                             Moen, Mr. Sigurd Hansen    male  25.0      0   \n",
      "88                          Fortune, Miss. Mabel Helen  female  23.0      3   \n",
      "92                         Chaffee, Mr. Herbert Fuller    male  46.0      1   \n",
      "96                           Goldschmidt, Mr. George B    male  71.0      0   \n",
      "97                     Greenfield, Mr. William Bertram    male  23.0      0   \n",
      "102                          White, Mr. Richard Frasar    male  21.0      0   \n",
      "110                     Porter, Mr. Walter Chamberlain    male  47.0      0   \n",
      "118                           Baxter, Mr. Quigg Edmond    male  24.0      0   \n",
      "123                                Webber, Miss. Susan  female  32.5      0   \n",
      "124                        White, Mr. Percival Wayland    male  54.0      0   \n",
      "136                       Newsom, Miss. Helen Monypeny  female  19.0      0   \n",
      "137                        Futrelle, Mr. Jacques Heath    male  37.0      1   \n",
      "139                                 Giglio, Mr. Victor    male  24.0      0   \n",
      "148           Navratil, Mr. Michel (\"Louis M Hoffman\")    male  36.5      0   \n",
      "151                  Pears, Mrs. Thomas (Edith Wearne)  female  22.0      1   \n",
      "170                          Van der hoef, Mr. Wyckoff    male  61.0      0   \n",
      "174                            Smith, Mr. James Clinch    male  56.0      0   \n",
      "177                         Isham, Miss. Ann Elizabeth  female  50.0      0   \n",
      "..                                                 ...     ...   ...    ...   \n",
      "737                             Lesurer, Mr. Gustave J    male  35.0      0   \n",
      "741                      Cavendish, Mr. Tyrell William    male  36.0      1   \n",
      "742              Ryerson, Miss. Susan Parker \"Suzette\"  female  21.0      2   \n",
      "745                       Crosby, Capt. Edward Gifford    male  70.0      1   \n",
      "748                          Marvin, Mr. Daniel Warner    male  19.0      1   \n",
      "751                                Moor, Master. Meier    male   6.0      0   \n",
      "759  Rothes, the Countess. of (Lucy Noel Martha Dye...  female  33.0      0   \n",
      "763          Carter, Mrs. William Ernest (Lucile Polk)  female  36.0      1   \n",
      "765               Hogeboom, Mrs. John C (Anna Andrews)  female  51.0      1   \n",
      "772                                  Mack, Mrs. (Mary)  female  57.0      0   \n",
      "779  Robert, Mrs. Edward Scott (Elisabeth Walton Mc...  female  43.0      0   \n",
      "781          Dick, Mrs. Albert Adrian (Vera Gillespie)  female  17.0      1   \n",
      "782                             Long, Mr. Milton Clyde    male  29.0      0   \n",
      "789                           Guggenheim, Mr. Benjamin    male  46.0      0   \n",
      "796                        Leader, Dr. Alice (Farnham)  female  49.0      0   \n",
      "802                Carter, Master. William Thornton II    male  11.0      1   \n",
      "806                             Andrews, Mr. Thomas Jr    male  39.0      0   \n",
      "809     Chambers, Mrs. Norman Campbell (Bertha Griggs)  female  33.0      1   \n",
      "820  Hays, Mrs. Charles Melville (Clara Jennings Gr...  female  52.0      1   \n",
      "823                                 Moor, Mrs. (Beila)  female  27.0      0   \n",
      "835                        Compton, Miss. Sara Rebecca  female  39.0      1   \n",
      "853                          Lines, Miss. Mary Conover  female  16.0      0   \n",
      "857                             Daly, Mr. Peter Denis     male  51.0      0   \n",
      "862  Swift, Mrs. Frederick Joel (Margaret Welles Ba...  female  48.0      0   \n",
      "867               Roebling, Mr. Washington Augustus II    male  31.0      0   \n",
      "871   Beckwith, Mrs. Richard Leonard (Sallie Monypeny)  female  47.0      1   \n",
      "872                           Carlsson, Mr. Frans Olof    male  33.0      0   \n",
      "879      Potter, Mrs. Thomas Jr (Lily Alexenia Wilson)  female  56.0      0   \n",
      "887                       Graham, Miss. Margaret Edith  female  19.0      0   \n",
      "889                              Behr, Mr. Karl Howell    male  26.0      0   \n",
      "\n",
      "     Parch       Ticket      Fare            Cabin Embarked  \n",
      "1        0     PC 17599   71.2833              C85        C  \n",
      "3        0       113803   53.1000             C123        S  \n",
      "6        0        17463   51.8625              E46        S  \n",
      "10       1      PP 9549   16.7000               G6        S  \n",
      "11       0       113783   26.5500             C103        S  \n",
      "21       0       248698   13.0000              D56        S  \n",
      "23       0       113788   35.5000               A6        S  \n",
      "27       2        19950  263.0000      C23 C25 C27        S  \n",
      "52       0     PC 17572   76.7292              D33        C  \n",
      "54       1       113509   61.9792              B30        C  \n",
      "62       0        36973   83.4750              C83        S  \n",
      "66       0   C.A. 29395   10.5000              F33        S  \n",
      "75       0       348123    7.6500            F G73        S  \n",
      "88       2        19950  263.0000      C23 C25 C27        S  \n",
      "92       0  W.E.P. 5734   61.1750              E31        S  \n",
      "96       0     PC 17754   34.6542               A5        C  \n",
      "97       1     PC 17759   63.3583          D10 D12        C  \n",
      "102      1        35281   77.2875              D26        S  \n",
      "110      0       110465   52.0000             C110        S  \n",
      "118      1     PC 17558  247.5208          B58 B60        C  \n",
      "123      0        27267   13.0000             E101        S  \n",
      "124      1        35281   77.2875              D26        S  \n",
      "136      2        11752   26.2833              D47        S  \n",
      "137      0       113803   53.1000             C123        S  \n",
      "139      0     PC 17593   79.2000              B86        C  \n",
      "148      2       230080   26.0000               F2        S  \n",
      "151      0       113776   66.6000               C2        S  \n",
      "170      0       111240   33.5000              B19        S  \n",
      "174      0        17764   30.6958               A7        C  \n",
      "177      0     PC 17595   28.7125              C49        C  \n",
      "..     ...          ...       ...              ...      ...  \n",
      "737      0     PC 17755  512.3292             B101        C  \n",
      "741      0        19877   78.8500              C46        S  \n",
      "742      2     PC 17608  262.3750  B57 B59 B63 B66        C  \n",
      "745      1    WE/P 5735   71.0000              B22        S  \n",
      "748      0       113773   53.1000              D30        S  \n",
      "751      1       392096   12.4750             E121        S  \n",
      "759      0       110152   86.5000              B77        S  \n",
      "763      2       113760  120.0000          B96 B98        S  \n",
      "765      0        13502   77.9583              D11        S  \n",
      "772      0  S.O./P.P. 3   10.5000              E77        S  \n",
      "779      1        24160  211.3375               B3        S  \n",
      "781      0        17474   57.0000              B20        S  \n",
      "782      0       113501   30.0000               D6        S  \n",
      "789      0     PC 17593   79.2000          B82 B84        C  \n",
      "796      0        17465   25.9292              D17        S  \n",
      "802      2       113760  120.0000          B96 B98        S  \n",
      "806      0       112050    0.0000              A36        S  \n",
      "809      0       113806   53.1000               E8        S  \n",
      "820      1        12749   93.5000              B69        S  \n",
      "823      1       392096   12.4750             E121        S  \n",
      "835      1     PC 17756   83.1583              E49        C  \n",
      "853      1     PC 17592   39.4000              D28        S  \n",
      "857      0       113055   26.5500              E17        S  \n",
      "862      0        17466   25.9292              D17        S  \n",
      "867      0     PC 17590   50.4958              A24        S  \n",
      "871      1        11751   52.5542              D35        S  \n",
      "872      0          695    5.0000      B51 B53 B55        S  \n",
      "879      1        11767   83.1583              C50        C  \n",
      "887      0       112053   30.0000              B42        S  \n",
      "889      0       111369   30.0000             C148        C  \n",
      "\n",
      "[183 rows x 12 columns]\n",
      "PassengerId      0\n",
      "Survived         0\n",
      "Pclass           0\n",
      "Name             0\n",
      "Sex              0\n",
      "Age            177\n",
      "SibSp            0\n",
      "Parch            0\n",
      "Ticket           0\n",
      "Fare             0\n",
      "Cabin          687\n",
      "Embarked         2\n",
      "dtype: int64\n"
     ]
    }
   ],
   "source": [
    "import numpy as np\n",
    "import pandas as pd\n",
    "import seaborn as sns\n",
    "import matplotlib.pyplot as plt\n",
    "\n",
    "df=pd.read_csv(\"train.csv\")\n",
    "print(df)\n",
    "print(df.dropna())\n",
    "print(df.isna().sum())\n",
    "\n"
   ]
  },
  {
   "cell_type": "code",
   "execution_count": 14,
   "metadata": {},
   "outputs": [
    {
     "name": "stdout",
     "output_type": "stream",
     "text": [
      "PassengerId    0\n",
      "Survived       0\n",
      "Pclass         0\n",
      "Name           0\n",
      "Sex            0\n",
      "Age            0\n",
      "SibSp          0\n",
      "Parch          0\n",
      "Ticket         0\n",
      "Fare           0\n",
      "Cabin          0\n",
      "Embarked       0\n",
      "dtype: int64\n"
     ]
    }
   ],
   "source": [
    "df=df.dropna()\n",
    "print(df.isna().sum())"
   ]
  },
  {
   "cell_type": "markdown",
   "metadata": {},
   "source": [
    "# 3 dimensinal"
   ]
  },
  {
   "cell_type": "code",
   "execution_count": 17,
   "metadata": {},
   "outputs": [
    {
     "data": {
      "text/plain": [
       "<mpl_toolkits.mplot3d.art3d.Path3DCollection at 0x20f114003c8>"
      ]
     },
     "execution_count": 17,
     "metadata": {},
     "output_type": "execute_result"
    },
    {
     "data": {
      "image/png": "[encoded data removed]",
      "text/plain": [
       "<Figure size 432x288 with 1 Axes>"
      ]
     },
     "metadata": {
      "needs_background": "light"
     },
     "output_type": "display_data"
    }
   ],
   "source": [
    "import matplotlib.pyplot as plot\n",
    "from mpl_toolkits.mplot3d import Axes3D\n",
    "import numpy as np\n",
    "fig=plt.figure()\n",
    "ax=fig.add_subplot(111,projection=\"3d\")\n",
    "x=np.random.randint(1,50,200)\n",
    "y=np.random.randint(1,50,200)\n",
    "z=np.random.randint(1,50,200)\n",
    "ax.scatter(x,y,z)\n"
   ]
  },
  {
   "cell_type": "code",
   "execution_count": 25,
   "metadata": {},
   "outputs": [
    {
     "name": "stdout",
     "output_type": "stream",
     "text": [
      "     PassengerId  Survived  Pclass  \\\n",
      "0              1         0       3   \n",
      "1              2         1       1   \n",
      "2              3         1       3   \n",
      "3              4         1       1   \n",
      "4              5         0       3   \n",
      "5              6         0       3   \n",
      "6              7         0       1   \n",
      "7              8         0       3   \n",
      "8              9         1       3   \n",
      "9             10         1       2   \n",
      "10            11         1       3   \n",
      "11            12         1       1   \n",
      "12            13         0       3   \n",
      "13            14         0       3   \n",
      "14            15         0       3   \n",
      "15            16         1       2   \n",
      "16            17         0       3   \n",
      "17            18         1       2   \n",
      "18            19         0       3   \n",
      "19            20         1       3   \n",
      "20            21         0       2   \n",
      "21            22         1       2   \n",
      "22            23         1       3   \n",
      "23            24         1       1   \n",
      "24            25         0       3   \n",
      "25            26         1       3   \n",
      "26            27         0       3   \n",
      "27            28         0       1   \n",
      "28            29         1       3   \n",
      "29            30         0       3   \n",
      "..           ...       ...     ...   \n",
      "861          862         0       2   \n",
      "862          863         1       1   \n",
      "863          864         0       3   \n",
      "864          865         0       2   \n",
      "865          866         1       2   \n",
      "866          867         1       2   \n",
      "867          868         0       1   \n",
      "868          869         0       3   \n",
      "869          870         1       3   \n",
      "870          871         0       3   \n",
      "871          872         1       1   \n",
      "872          873         0       1   \n",
      "873          874         0       3   \n",
      "874          875         1       2   \n",
      "875          876         1       3   \n",
      "876          877         0       3   \n",
      "877          878         0       3   \n",
      "878          879         0       3   \n",
      "879          880         1       1   \n",
      "880          881         1       2   \n",
      "881          882         0       3   \n",
      "882          883         0       3   \n",
      "883          884         0       2   \n",
      "884          885         0       3   \n",
      "885          886         0       3   \n",
      "886          887         0       2   \n",
      "887          888         1       1   \n",
      "888          889         0       3   \n",
      "889          890         1       1   \n",
      "890          891         0       3   \n",
      "\n",
      "                                                  Name     Sex   Age  SibSp  \\\n",
      "0                              Braund, Mr. Owen Harris    male  22.0      1   \n",
      "1    Cumings, Mrs. John Bradley (Florence Briggs Th...  female  38.0      1   \n",
      "2                               Heikkinen, Miss. Laina  female  26.0      0   \n",
      "3         Futrelle, Mrs. Jacques Heath (Lily May Peel)  female  35.0      1   \n",
      "4                             Allen, Mr. William Henry    male  35.0      0   \n",
      "5                                     Moran, Mr. James    male   NaN      0   \n",
      "6                              McCarthy, Mr. Timothy J    male  54.0      0   \n",
      "7                       Palsson, Master. Gosta Leonard    male   2.0      3   \n",
      "8    Johnson, Mrs. Oscar W (Elisabeth Vilhelmina Berg)  female  27.0      0   \n",
      "9                  Nasser, Mrs. Nicholas (Adele Achem)  female  14.0      1   \n",
      "10                     Sandstrom, Miss. Marguerite Rut  female   4.0      1   \n",
      "11                            Bonnell, Miss. Elizabeth  female  58.0      0   \n",
      "12                      Saundercock, Mr. William Henry    male  20.0      0   \n",
      "13                         Andersson, Mr. Anders Johan    male  39.0      1   \n",
      "14                Vestrom, Miss. Hulda Amanda Adolfina  female  14.0      0   \n",
      "15                    Hewlett, Mrs. (Mary D Kingcome)   female  55.0      0   \n",
      "16                                Rice, Master. Eugene    male   2.0      4   \n",
      "17                        Williams, Mr. Charles Eugene    male   NaN      0   \n",
      "18   Vander Planke, Mrs. Julius (Emelia Maria Vande...  female  31.0      1   \n",
      "19                             Masselmani, Mrs. Fatima  female   NaN      0   \n",
      "20                                Fynney, Mr. Joseph J    male  35.0      0   \n",
      "21                               Beesley, Mr. Lawrence    male  34.0      0   \n",
      "22                         McGowan, Miss. Anna \"Annie\"  female  15.0      0   \n",
      "23                        Sloper, Mr. William Thompson    male  28.0      0   \n",
      "24                       Palsson, Miss. Torborg Danira  female   8.0      3   \n",
      "25   Asplund, Mrs. Carl Oscar (Selma Augusta Emilia...  female  38.0      1   \n",
      "26                             Emir, Mr. Farred Chehab    male   NaN      0   \n",
      "27                      Fortune, Mr. Charles Alexander    male  19.0      3   \n",
      "28                       O'Dwyer, Miss. Ellen \"Nellie\"  female   NaN      0   \n",
      "29                                 Todoroff, Mr. Lalio    male   NaN      0   \n",
      "..                                                 ...     ...   ...    ...   \n",
      "861                        Giles, Mr. Frederick Edward    male  21.0      1   \n",
      "862  Swift, Mrs. Frederick Joel (Margaret Welles Ba...  female  48.0      0   \n",
      "863                  Sage, Miss. Dorothy Edith \"Dolly\"  female   NaN      8   \n",
      "864                             Gill, Mr. John William    male  24.0      0   \n",
      "865                           Bystrom, Mrs. (Karolina)  female  42.0      0   \n",
      "866                       Duran y More, Miss. Asuncion  female  27.0      1   \n",
      "867               Roebling, Mr. Washington Augustus II    male  31.0      0   \n",
      "868                        van Melkebeke, Mr. Philemon    male   NaN      0   \n",
      "869                    Johnson, Master. Harold Theodor    male   4.0      1   \n",
      "870                                  Balkic, Mr. Cerin    male  26.0      0   \n",
      "871   Beckwith, Mrs. Richard Leonard (Sallie Monypeny)  female  47.0      1   \n",
      "872                           Carlsson, Mr. Frans Olof    male  33.0      0   \n",
      "873                        Vander Cruyssen, Mr. Victor    male  47.0      0   \n",
      "874              Abelson, Mrs. Samuel (Hannah Wizosky)  female  28.0      1   \n",
      "875                   Najib, Miss. Adele Kiamie \"Jane\"  female  15.0      0   \n",
      "876                      Gustafsson, Mr. Alfred Ossian    male  20.0      0   \n",
      "877                               Petroff, Mr. Nedelio    male  19.0      0   \n",
      "878                                 Laleff, Mr. Kristo    male   NaN      0   \n",
      "879      Potter, Mrs. Thomas Jr (Lily Alexenia Wilson)  female  56.0      0   \n",
      "880       Shelley, Mrs. William (Imanita Parrish Hall)  female  25.0      0   \n",
      "881                                 Markun, Mr. Johann    male  33.0      0   \n",
      "882                       Dahlberg, Miss. Gerda Ulrika  female  22.0      0   \n",
      "883                      Banfield, Mr. Frederick James    male  28.0      0   \n",
      "884                             Sutehall, Mr. Henry Jr    male  25.0      0   \n",
      "885               Rice, Mrs. William (Margaret Norton)  female  39.0      0   \n",
      "886                              Montvila, Rev. Juozas    male  27.0      0   \n",
      "887                       Graham, Miss. Margaret Edith  female  19.0      0   \n",
      "888           Johnston, Miss. Catherine Helen \"Carrie\"  female   NaN      1   \n",
      "889                              Behr, Mr. Karl Howell    male  26.0      0   \n",
      "890                                Dooley, Mr. Patrick    male  32.0      0   \n",
      "\n",
      "     Parch            Ticket      Fare        Cabin Embarked  \n",
      "0        0         A/5 21171    7.2500          NaN        S  \n",
      "1        0          PC 17599   71.2833          C85        C  \n",
      "2        0  STON/O2. 3101282    7.9250          NaN        S  \n",
      "3        0            113803   53.1000         C123        S  \n",
      "4        0            373450    8.0500          NaN        S  \n",
      "5        0            330877    8.4583          NaN        Q  \n",
      "6        0             17463   51.8625          E46        S  \n",
      "7        1            349909   21.0750          NaN        S  \n",
      "8        2            347742   11.1333          NaN        S  \n",
      "9        0            237736   30.0708          NaN        C  \n",
      "10       1           PP 9549   16.7000           G6        S  \n",
      "11       0            113783   26.5500         C103        S  \n",
      "12       0         A/5. 2151    8.0500          NaN        S  \n",
      "13       5            347082   31.2750          NaN        S  \n",
      "14       0            350406    7.8542          NaN        S  \n",
      "15       0            248706   16.0000          NaN        S  \n",
      "16       1            382652   29.1250          NaN        Q  \n",
      "17       0            244373   13.0000          NaN        S  \n",
      "18       0            345763   18.0000          NaN        S  \n",
      "19       0              2649    7.2250          NaN        C  \n",
      "20       0            239865   26.0000          NaN        S  \n",
      "21       0            248698   13.0000          D56        S  \n",
      "22       0            330923    8.0292          NaN        Q  \n",
      "23       0            113788   35.5000           A6        S  \n",
      "24       1            349909   21.0750          NaN        S  \n",
      "25       5            347077   31.3875          NaN        S  \n",
      "26       0              2631    7.2250          NaN        C  \n",
      "27       2             19950  263.0000  C23 C25 C27        S  \n",
      "28       0            330959    7.8792          NaN        Q  \n",
      "29       0            349216    7.8958          NaN        S  \n",
      "..     ...               ...       ...          ...      ...  \n",
      "861      0             28134   11.5000          NaN        S  \n",
      "862      0             17466   25.9292          D17        S  \n",
      "863      2          CA. 2343   69.5500          NaN        S  \n",
      "864      0            233866   13.0000          NaN        S  \n",
      "865      0            236852   13.0000          NaN        S  \n",
      "866      0     SC/PARIS 2149   13.8583          NaN        C  \n",
      "867      0          PC 17590   50.4958          A24        S  \n",
      "868      0            345777    9.5000          NaN        S  \n",
      "869      1            347742   11.1333          NaN        S  \n",
      "870      0            349248    7.8958          NaN        S  \n",
      "871      1             11751   52.5542          D35        S  \n",
      "872      0               695    5.0000  B51 B53 B55        S  \n",
      "873      0            345765    9.0000          NaN        S  \n",
      "874      0         P/PP 3381   24.0000          NaN        C  \n",
      "875      0              2667    7.2250          NaN        C  \n",
      "876      0              7534    9.8458          NaN        S  \n",
      "877      0            349212    7.8958          NaN        S  \n",
      "878      0            349217    7.8958          NaN        S  \n",
      "879      1             11767   83.1583          C50        C  \n",
      "880      1            230433   26.0000          NaN        S  \n",
      "881      0            349257    7.8958          NaN        S  \n",
      "882      0              7552   10.5167          NaN        S  \n",
      "883      0  C.A./SOTON 34068   10.5000          NaN        S  \n",
      "884      0   SOTON/OQ 392076    7.0500          NaN        S  \n",
      "885      5            382652   29.1250          NaN        Q  \n",
      "886      0            211536   13.0000          NaN        S  \n",
      "887      0            112053   30.0000          B42        S  \n",
      "888      2        W./C. 6607   23.4500          NaN        S  \n",
      "889      0            111369   30.0000         C148        C  \n",
      "890      0            370376    7.7500          NaN        Q  \n",
      "\n",
      "[891 rows x 12 columns]\n"
     ]
    },
    {
     "data": {
      "text/plain": [
       "<seaborn.axisgrid.FacetGrid at 0x20f11899320>"
      ]
     },
     "execution_count": 25,
     "metadata": {},
     "output_type": "execute_result"
    },
    {
     "data": {
      "image/png": "[encoded data removed]",
      "text/plain": [
       "<Figure size 360x360 with 1 Axes>"
      ]
     },
     "metadata": {
      "needs_background": "light"
     },
     "output_type": "display_data"
    }
   ],
   "source": [
    "\n",
    "import numpy as np\n",
    "import pandas as pd\n",
    "import seaborn as sns\n",
    "import matplotlib.pyplot as plt\n",
    "\n",
    "df=pd.read_csv(\"train.csv\")\n",
    "print(df)\n",
    "df[\"Age\"]=df[\"Age\"].fillna(df[\"Age\"].median())\n",
    "df[\"Name\"]=df[\"Name\"].fillna(\"U\")\n",
    "df[\"Embarked\"]=df[\"Embarked\"].fillna(df[\"Embarked\"])\n",
    "df[\"Cabin\"]=df[\"Cabin\"].fillna(\"U\")\n",
    "sns.catplot(x=\"Sex\",data=df,kind=\"count\")                                     \n",
    "                                     \n",
    "                                     \n",
    "                                     \n",
    "                                     \n",
    "                                     \n",
    "                                     \n",
    "                                     \n",
    "                                     \n"
   ]
  },
  {
   "cell_type": "code",
   "execution_count": 40,
   "metadata": {},
   "outputs": [
    {
     "name": "stdout",
     "output_type": "stream",
     "text": [
      "Collecting seaborn\n",
      "  Downloading https://files.pythonhosted.org/packages/68/ad/6c2406ae175f59ec616714e408979b674fe27b9587f79d59a528ddfbcd5b/seaborn-0.11.1-py3-none-any.whl (285kB)\n",
      "Requirement already satisfied, skipping upgrade: numpy>=1.15 in c:\\users\\user\\anaconda3\\lib\\site-packages (from seaborn) (1.16.2)\n",
      "Requirement already satisfied, skipping upgrade: scipy>=1.0 in c:\\users\\user\\anaconda3\\lib\\site-packages (from seaborn) (1.2.1)\n",
      "Requirement already satisfied, skipping upgrade: matplotlib>=2.2 in c:\\users\\user\\anaconda3\\lib\\site-packages (from seaborn) (3.0.3)\n",
      "Requirement already satisfied, skipping upgrade: pandas>=0.23 in c:\\users\\user\\anaconda3\\lib\\site-packages (from seaborn) (0.24.2)\n",
      "Requirement already satisfied, skipping upgrade: cycler>=0.10 in c:\\users\\user\\anaconda3\\lib\\site-packages (from matplotlib>=2.2->seaborn) (0.10.0)\n",
      "Requirement already satisfied, skipping upgrade: kiwisolver>=1.0.1 in c:\\users\\user\\anaconda3\\lib\\site-packages (from matplotlib>=2.2->seaborn) (1.0.1)\n",
      "Requirement already satisfied, skipping upgrade: pyparsing!=2.0.4,!=2.1.2,!=2.1.6,>=2.0.1 in c:\\users\\user\\anaconda3\\lib\\site-packages (from matplotlib>=2.2->seaborn) (2.3.1)\n",
      "Requirement already satisfied, skipping upgrade: python-dateutil>=2.1 in c:\\users\\user\\anaconda3\\lib\\site-packages (from matplotlib>=2.2->seaborn) (2.8.0)\n",
      "Requirement already satisfied, skipping upgrade: pytz>=2011k in c:\\users\\user\\anaconda3\\lib\\site-packages (from pandas>=0.23->seaborn) (2018.9)\n",
      "Requirement already satisfied, skipping upgrade: six in c:\\users\\user\\anaconda3\\lib\\site-packages (from cycler>=0.10->matplotlib>=2.2->seaborn) (1.12.0)\n",
      "Requirement already satisfied, skipping upgrade: setuptools in c:\\users\\user\\anaconda3\\lib\\site-packages (from kiwisolver>=1.0.1->matplotlib>=2.2->seaborn) (40.8.0)\n",
      "Installing collected packages: seaborn\n",
      "  Found existing installation: seaborn 0.9.0\n",
      "    Uninstalling seaborn-0.9.0:\n",
      "      Successfully uninstalled seaborn-0.9.0\n",
      "Successfully installed seaborn-0.11.1\n",
      "Note: you may need to restart the kernel to use updated packages.\n"
     ]
    }
   ],
   "source": [
    "pip install -U seaborn"
   ]
  },
  {
   "cell_type": "code",
   "execution_count": 26,
   "metadata": {},
   "outputs": [
    {
     "data": {
      "text/plain": [
       "<seaborn.axisgrid.FacetGrid at 0x20f11d3aa90>"
      ]
     },
     "execution_count": 26,
     "metadata": {},
     "output_type": "execute_result"
    },
    {
     "data": {
      "image/png": "[encoded data removed]",
      "text/plain": [
       "<Figure size 360x360 with 1 Axes>"
      ]
     },
     "metadata": {
      "needs_background": "light"
     },
     "output_type": "display_data"
    }
   ],
   "source": [
    "df[\"Age\"]=df[\"Age\"].fillna(df[\"Age\"].median())\n",
    "df[\"Name\"]=df[\"Name\"].fillna(\"U\")\n",
    "df[\"Embarked\"]=df[\"Embarked\"].fillna(df[\"Embarked\"])\n",
    "df[\"Cabin\"]=df[\"Cabin\"].fillna(\"U\")\n",
    "sns.catplot(x=\"Sex\",data=df,kind=\"count\") "
   ]
  },
  {
   "cell_type": "code",
   "execution_count": 29,
   "metadata": {},
   "outputs": [
    {
     "data": {
      "text/plain": [
       "<seaborn.axisgrid.FacetGrid at 0x20f11be7978>"
      ]
     },
     "execution_count": 29,
     "metadata": {},
     "output_type": "execute_result"
    },
    {
     "data": {
      "image/png": "[encoded data removed]",
      "text/plain": [
       "<Figure size 430.5x360 with 1 Axes>"
      ]
     },
     "metadata": {
      "needs_background": "light"
     },
     "output_type": "display_data"
    }
   ],
   "source": [
    "df[\"Age\"]=df[\"Age\"].fillna(df[\"Age\"].median())\n",
    "df[\"Name\"]=df[\"Name\"].fillna(\"U\")\n",
    "df[\"Embarked\"]=df[\"Embarked\"].fillna(df[\"Embarked\"])\n",
    "df[\"Cabin\"]=df[\"Cabin\"].fillna(\"U\")\n",
    "sns.catplot(x=\"Pclass\",data=df,kind=\"count\",hue=\"Sex\") "
   ]
  },
  {
   "cell_type": "code",
   "execution_count": 2,
   "metadata": {},
   "outputs": [
    {
     "ename": "SyntaxError",
     "evalue": "invalid syntax (<ipython-input-2-adbcd9a61b5f>, line 19)",
     "output_type": "error",
     "traceback": [
      "\u001b[1;36m  File \u001b[1;32m\"<ipython-input-2-adbcd9a61b5f>\"\u001b[1;36m, line \u001b[1;32m19\u001b[0m\n\u001b[1;33m    print(df)sns.catplot(x=\"Pclass\",data=df,kind=\"count\",hue=\"People\")\u001b[0m\n\u001b[1;37m               ^\u001b[0m\n\u001b[1;31mSyntaxError\u001b[0m\u001b[1;31m:\u001b[0m invalid syntax\n"
     ]
    }
   ],
   "source": [
    "df[\"Age\"]=df[\"Age\"].fillna(df[\"Age\"].median())\n",
    "df[\"Name\"]=df[\"Name\"].fillna(\"U\")\n",
    "df[\"Embarked\"]=df[\"Embarked\"].fillna(df[\"Embarked\"])\n",
    "df[\"Cabin\"]=df[\"Cabin\"].fillna(\"U\")\n",
    "def check_age(data):\n",
    "    age,gender=data\n",
    "    if age<=16.0:\n",
    "        return \"child\"\n",
    "    else:\n",
    "        return gender\n",
    "df[\"People\"]=df[[\"Age\",\"Sex\"]].apply(check_age,axis=1) \n",
    "#print(df)\n",
    "import numpy as np\n",
    "import pandas as pd\n",
    "import seaborn as sns\n",
    "import matplotlib.pyplot as plt\n",
    "\n",
    "df=pd.read_csv(\"train.csv\")\n",
    "print(df)sns.catplot(x=\"Pclass\",data=df,kind=\"count\",hue=\"People\")"
   ]
  },
  {
   "cell_type": "code",
   "execution_count": 7,
   "metadata": {},
   "outputs": [
    {
     "data": {
      "text/plain": [
       "<matplotlib.axes._subplots.AxesSubplot at 0x22784d78518>"
      ]
     },
     "execution_count": 7,
     "metadata": {},
     "output_type": "execute_result"
    },
    {
     "data": {
      "image/png": "[encoded data removed]",
      "text/plain": [
       "<Figure size 432x288 with 1 Axes>"
      ]
     },
     "metadata": {
      "needs_background": "light"
     },
     "output_type": "display_data"
    }
   ],
   "source": [
    "\n",
    "import numpy as np\n",
    "import pandas as pd\n",
    "import seaborn as sns\n",
    "import matplotlib.pyplot as plt\n",
    "\n",
    "df=pd.read_csv(\"train.csv\")\n",
    "#print(df)\n",
    "\n",
    "df[\"Age\"]=df[\"Age\"].fillna(df[\"Age\"].median())\n",
    "df[\"Name\"]=df[\"Name\"].fillna(\"U\")\n",
    "df[\"Embarked\"]=df[\"Embarked\"].fillna(df[\"Embarked\"])\n",
    "df[\"Cabin\"]=df[\"Cabin\"].fillna(\"U\")\n",
    "def check_age(data):\n",
    "    age,gender=data\n",
    "    if age<=16.0:\n",
    "        return \"child\"\n",
    "    else:\n",
    "        return gender\n",
    "df[\"People\"]=df[[\"Age\",\"Sex\"]].apply(check_age,axis=1) \n",
    "#print(df)\n",
    "sns.histplot(x=\"Age\",data=df)"
   ]
  },
  {
   "cell_type": "code",
   "execution_count": 19,
   "metadata": {},
   "outputs": [
    {
     "data": {
      "text/plain": [
       "<seaborn.axisgrid.FacetGrid at 0x22784e64d30>"
      ]
     },
     "execution_count": 19,
     "metadata": {},
     "output_type": "execute_result"
    },
    {
     "data": {
      "image/png": "[encoded data removed]",
      "text/plain": [
       "<Figure size 467.625x360 with 1 Axes>"
      ]
     },
     "metadata": {
      "needs_background": "light"
     },
     "output_type": "display_data"
    }
   ],
   "source": [
    "\n",
    "import numpy as np\n",
    "import pandas as pd\n",
    "import seaborn as sns\n",
    "import matplotlib.pyplot as plt\n",
    "\n",
    "df=pd.read_csv(\"train.csv\")\n",
    "#print(df)\n",
    "\n",
    "df[\"Age\"]=df[\"Age\"].fillna(df[\"Age\"].median())\n",
    "df[\"Name\"]=df[\"Name\"].fillna(\"U\")\n",
    "df[\"Embarked\"]=df[\"Embarked\"].fillna(df[\"Embarked\"])\n",
    "df[\"Cabin\"]=df[\"Cabin\"].fillna(\"U\")\n",
    "def check_age(data):\n",
    "    age,gender=data\n",
    "    if age<16.0:\n",
    "        return \"child\"\n",
    "    else:\n",
    "        return gender\n",
    "df[\"People\"]=df[[\"Age\",\"Sex\"]].apply(check_age,axis=1)    \n",
    "def check_alone(data):\n",
    "    Parch,sibsp=data\n",
    "    c=Parch+sibsp\n",
    "    if c>0:\n",
    "        return \"with family\"\n",
    "    else:\n",
    "        return \"without family\"\n",
    "df[\"family\"]=df[[\"Parch\",\"SibSp\"]].apply(check_alone,axis=1)\n",
    "#print(df[\"family\"])\n",
    "\n",
    "sns.catplot(x=\"Pclass\",data=df,kind=\"count\",hue=\"family\")"
   ]
  },
  {
   "cell_type": "code",
   "execution_count": 20,
   "metadata": {},
   "outputs": [
    {
     "data": {
      "text/plain": [
       "<seaborn.axisgrid.FacetGrid at 0x22788cc9a58>"
      ]
     },
     "execution_count": 20,
     "metadata": {},
     "output_type": "execute_result"
    },
    {
     "data": {
      "image/png": "[encoded data removed]",
      "text/plain": [
       "<Figure size 430.5x360 with 1 Axes>"
      ]
     },
     "metadata": {
      "needs_background": "light"
     },
     "output_type": "display_data"
    }
   ],
   "source": [
    "\n",
    "import numpy as np\n",
    "import pandas as pd\n",
    "import seaborn as sns\n",
    "import matplotlib.pyplot as plt\n",
    "\n",
    "df=pd.read_csv(\"train.csv\")\n",
    "#print(df)\n",
    "\n",
    "df[\"Age\"]=df[\"Age\"].fillna(df[\"Age\"].median())\n",
    "df[\"Name\"]=df[\"Name\"].fillna(\"U\")\n",
    "df[\"Embarked\"]=df[\"Embarked\"].fillna(df[\"Embarked\"])\n",
    "df[\"Cabin\"]=df[\"Cabin\"].fillna(\"U\")\n",
    "def check_age(data):\n",
    "    age,gender=data\n",
    "    if age<16.0:\n",
    "        return \"child\"\n",
    "    else:\n",
    "        return gender\n",
    "df[\"People\"]=df[[\"Age\",\"Sex\"]].apply(check_age,axis=1)    \n",
    "def check_alone(data):\n",
    "    Parch,sibsp=data\n",
    "    c=Parch+sibsp\n",
    "    if c>0:\n",
    "        return \"with family\"\n",
    "    else:\n",
    "        return \"without family\"\n",
    "df[\"family\"]=df[[\"Parch\",\"SibSp\"]].apply(check_alone,axis=1)\n",
    "#print(df[\"family\"])\n",
    "\n",
    "sns.catplot(x=\"family\",data=df,kind=\"count\",hue=\"People\")"
   ]
  },
  {
   "cell_type": "code",
   "execution_count": 23,
   "metadata": {},
   "outputs": [
    {
     "data": {
      "text/plain": [
       "<seaborn.axisgrid.FacetGrid at 0x2278da24160>"
      ]
     },
     "execution_count": 23,
     "metadata": {},
     "output_type": "execute_result"
    },
    {
     "data": {
      "image/png": "[encoded data removed]",
      "text/plain": [
       "<Figure size 430.5x360 with 1 Axes>"
      ]
     },
     "metadata": {
      "needs_background": "light"
     },
     "output_type": "display_data"
    }
   ],
   "source": [
    "#for survive\n",
    "\n",
    "\n",
    "import numpy as np\n",
    "import pandas as pd\n",
    "import seaborn as sns\n",
    "import matplotlib.pyplot as plt\n",
    "\n",
    "df=pd.read_csv(\"train.csv\")\n",
    "#print(df)\n",
    "\n",
    "df[\"Age\"]=df[\"Age\"].fillna(df[\"Age\"].median())\n",
    "df[\"Name\"]=df[\"Name\"].fillna(\"U\")\n",
    "df[\"Embarked\"]=df[\"Embarked\"].fillna(df[\"Embarked\"])\n",
    "df[\"Cabin\"]=df[\"Cabin\"].fillna(\"U\")\n",
    "def check_age(data):\n",
    "    age,gender=data\n",
    "    if age<16.0:\n",
    "        return \"child\"\n",
    "    else:\n",
    "        return gender\n",
    "df[\"People\"]=df[[\"Age\",\"Sex\"]].apply(check_age,axis=1)    \n",
    "def check_alone(data):\n",
    "    Parch,sibsp=data\n",
    "    c=Parch+sibsp\n",
    "    if c>0:\n",
    "        return \"with family\"\n",
    "    else:\n",
    "        return \"without family\"\n",
    "df[\"family\"]=df[[\"Parch\",\"SibSp\"]].apply(check_alone,axis=1)\n",
    "#print(df[\"family\"])\n",
    "\n",
    "sns.catplot(x=\"Survived\",data=df,kind=\"count\",hue=\"Pclass\")"
   ]
  },
  {
   "cell_type": "code",
   "execution_count": 24,
   "metadata": {},
   "outputs": [
    {
     "data": {
      "text/plain": [
       "<seaborn.axisgrid.FacetGrid at 0x227879cdb70>"
      ]
     },
     "execution_count": 24,
     "metadata": {},
     "output_type": "execute_result"
    },
    {
     "data": {
      "image/png": "[encoded data removed]",
      "text/plain": [
       "<Figure size 402.375x360 with 1 Axes>"
      ]
     },
     "metadata": {
      "needs_background": "light"
     },
     "output_type": "display_data"
    }
   ],
   "source": [
    "#for survive\n",
    "\n",
    "\n",
    "import numpy as np\n",
    "import pandas as pd\n",
    "import seaborn as sns\n",
    "import matplotlib.pyplot as plt\n",
    "\n",
    "df=pd.read_csv(\"train.csv\")\n",
    "#print(df)\n",
    "\n",
    "df[\"Age\"]=df[\"Age\"].fillna(df[\"Age\"].median())\n",
    "df[\"Name\"]=df[\"Name\"].fillna(\"U\")\n",
    "df[\"Embarked\"]=df[\"Embarked\"].fillna(df[\"Embarked\"])\n",
    "df[\"Cabin\"]=df[\"Cabin\"].fillna(\"U\")\n",
    "def check_age(data):\n",
    "    age,gender=data\n",
    "    if age<16.0:\n",
    "        return \"child\"\n",
    "    else:\n",
    "        return gender\n",
    "df[\"People\"]=df[[\"Age\",\"Sex\"]].apply(check_age,axis=1)    \n",
    "def check_alone(data):\n",
    "    Parch,sibsp=data\n",
    "    c=Parch+sibsp\n",
    "    if c>0:\n",
    "        return \"with family\"\n",
    "    else:\n",
    "        return \"without family\"\n",
    "df[\"family\"]=df[[\"Parch\",\"SibSp\"]].apply(check_alone,axis=1)\n",
    "#print(df[\"family\"])\n",
    "\n",
    "sns.catplot(x=\"Survived\",data=df,kind=\"count\",hue=\"Pclass\")"
   ]
  },
  {
   "cell_type": "code",
   "execution_count": 31,
   "metadata": {},
   "outputs": [
    {
     "data": {
      "text/plain": [
       "<seaborn.axisgrid.FacetGrid at 0x2279099bf98>"
      ]
     },
     "execution_count": 31,
     "metadata": {},
     "output_type": "execute_result"
    },
    {
     "data": {
      "image/png": "[encoded data removed]",
      "text/plain": [
       "<Figure size 467.625x360 with 1 Axes>"
      ]
     },
     "metadata": {
      "needs_background": "light"
     },
     "output_type": "display_data"
    }
   ],
   "source": [
    "#for survive\n",
    "\n",
    "\n",
    "import numpy as np\n",
    "import pandas as pd\n",
    "import seaborn as sns\n",
    "import matplotlib.pyplot as plt\n",
    "\n",
    "df=pd.read_csv(\"train.csv\")\n",
    "#print(df)\n",
    "\n",
    "df[\"Age\"]=df[\"Age\"].fillna(df[\"Age\"].median())\n",
    "df[\"Name\"]=df[\"Name\"].fillna(\"U\")\n",
    "df[\"Embarked\"]=df[\"Embarked\"].fillna(df[\"Embarked\"])\n",
    "df[\"Cabin\"]=df[\"Cabin\"].fillna(\"U\")\n",
    "def check_age(data):\n",
    "    age,gender=data\n",
    "    if age<16.0:\n",
    "        return \"child\"\n",
    "    else:\n",
    "        return gender\n",
    "df[\"People\"]=df[[\"Age\",\"Sex\"]].apply(check_age,axis=1)    \n",
    "def check_alone(data):\n",
    "    Parch,sibsp=data\n",
    "    c=Parch+sibsp\n",
    "    if c>0:\n",
    "        return \"with family\"\n",
    "    else:\n",
    "        return \"without family\"\n",
    "df[\"family\"]=df[[\"Parch\",\"SibSp\"]].apply(check_alone,axis=1)\n",
    "#print(df[\"family\"])\n",
    "\n",
    "sns.catplot(y=\"People\",x=\"Survived\",data=df,hue=\"family\")"
   ]
  },
  {
   "cell_type": "code",
   "execution_count": null,
   "metadata": {},
   "outputs": [],
   "source": []
  }
 ],
 "metadata": {
  "kernelspec": {
   "display_name": "Python 3",
   "language": "python",
   "name": "python3"
  },
  "language_info": {
   "codemirror_mode": {
    "name": "ipython",
    "version": 3
   },
   "file_extension": ".py",
   "mimetype": "text/x-python",
   "name": "python",
   "nbconvert_exporter": "python",
   "pygments_lexer": "ipython3",
   "version": "3.8.5"
  }
 },
 "nbformat": 4,
 "nbformat_minor": 2
}
